{
 "cells": [
  {
   "cell_type": "code",
   "execution_count": 1,
   "metadata": {},
   "outputs": [],
   "source": [
    "import numpy as np\n",
    "import matplotlib.pyplot as plt\n",
    "from math import sqrt\n",
    "import pandas as pd\n",
    "import seaborn as sns\n",
    "from sklearn.model_selection import train_test_split\n",
    "import matplotlib.patches as mpatches\n",
    "from scipy.optimize import minimize\n",
    "from pandas_datareader import DataReader\n",
    "from datetime import datetime\n",
    "from sklearn.metrics import mean_squared_error\n",
    "from scipy.stats import linregress"
   ]
  },
  {
   "cell_type": "code",
   "execution_count": 2,
   "metadata": {},
   "outputs": [],
   "source": [
    "#finding the Slope of linear regression line\n",
    "# def Slope(a,b):\n",
    "#     n=len(a)\n",
    "#     two_sum=np.sum(a*b)\n",
    "#     sumX=np.sum(a)\n",
    "#     sumY=np.sum(b)\n",
    "#     sumX_2=np.sum(a**2)\n",
    "#     slope=(n*two_sum-sumX*sumY)/(n*sumX_2-(sumX)**2)\n",
    "#     return slope"
   ]
  },
  {
   "cell_type": "code",
   "execution_count": 11,
   "metadata": {},
   "outputs": [
    {
     "data": {
      "text/plain": [
       "0.01730590276795542"
      ]
     },
     "execution_count": 11,
     "metadata": {},
     "output_type": "execute_result"
    }
   ],
   "source": [
    "def Slope(a,b):\n",
    "    slope=(np.mean(a*b) - np.mean(a)* np.mean(b)) / (np.mean(a**2) - (np.mean(a)**2))\n",
    "    return slope\n",
    "\n",
    "Slope(X_train, Y_train)"
   ]
  },
  {
   "cell_type": "code",
   "execution_count": 2,
   "metadata": {},
   "outputs": [],
   "source": [
    "def Intercept(a,b):\n",
    "    intercept=np.mean(b)-Slope(a,b)*np.mean(a)\n",
    "    return intercept"
   ]
  },
  {
   "cell_type": "code",
   "execution_count": 3,
   "metadata": {},
   "outputs": [],
   "source": [
    "def Predictions(slope,x_input,intercept):\n",
    "    predict=slope*x_input + intercept\n",
    "    return predict"
   ]
  },
  {
   "cell_type": "code",
   "execution_count": 4,
   "metadata": {},
   "outputs": [],
   "source": [
    "def R_squared(predicted_values,test_values):\n",
    "    f=predicted_values\n",
    "    y=test_values\n",
    "    print(f,'\\n\\n',y)\n",
    "    #sum of squares\n",
    "    ss_total=np.sum((y-np.mean(y))**2)\n",
    "    #regression sum\n",
    "    #ss_reg=np.sum((f-np.mean(y))**2)\n",
    "    #Residuals sum of squares\n",
    "    ss_res=np.sum((y-f)**2)\n",
    "    #R-squared formula\n",
    "    R_2=1-(ss_res/ss_total)\n",
    "    return R_2\n"
   ]
  },
  {
   "cell_type": "code",
   "execution_count": 5,
   "metadata": {},
   "outputs": [],
   "source": [
    "#Finding Correlation Coefficient for the given X & Y values\n",
    "def correlation_coeff(predicted_values,test_values):\n",
    "    a=predicted_values\n",
    "    b=test_values\n",
    "    n=len(a)\n",
    "    two_sum=np.sum(a*b)\n",
    "    sumX=np.sum(a)\n",
    "    sumY=np.sum(b)\n",
    "    sumX_2=np.sum(a**2)\n",
    "    sumY_2=np.sum(b**2)\n",
    "    score=(n*two_sum-sumX*sumY)/np.sqrt((n*sumX_2-(sumX)**2)*(n*sumY_2-(sumY)**2))\n",
    "    return score\n",
    "\n",
    "#Finding Covariance for the given X & Y values\n",
    "def Covariance(X,Y):\n",
    "    a=X\n",
    "    b=Y\n",
    "    n=len(a)\n",
    "    two_sum=np.sum(a*b)\n",
    "    cov=two_sum/n-np.mean(a)*np.mean(b)\n",
    "    return cov"
   ]
  },
  {
   "cell_type": "code",
   "execution_count": 89,
   "metadata": {
    "scrolled": true
   },
   "outputs": [
    {
     "data": {
      "text/html": [
       "<div>\n",
       "<style scoped>\n",
       "    .dataframe tbody tr th:only-of-type {\n",
       "        vertical-align: middle;\n",
       "    }\n",
       "\n",
       "    .dataframe tbody tr th {\n",
       "        vertical-align: top;\n",
       "    }\n",
       "\n",
       "    .dataframe thead th {\n",
       "        text-align: right;\n",
       "    }\n",
       "</style>\n",
       "<table border=\"1\" class=\"dataframe\">\n",
       "  <thead>\n",
       "    <tr style=\"text-align: right;\">\n",
       "      <th></th>\n",
       "      <th>High</th>\n",
       "      <th>Low</th>\n",
       "      <th>Open</th>\n",
       "      <th>Close</th>\n",
       "      <th>Volume</th>\n",
       "      <th>Adj Close</th>\n",
       "      <th>Average</th>\n",
       "      <th>idCol</th>\n",
       "    </tr>\n",
       "    <tr>\n",
       "      <th>Date</th>\n",
       "      <th></th>\n",
       "      <th></th>\n",
       "      <th></th>\n",
       "      <th></th>\n",
       "      <th></th>\n",
       "      <th></th>\n",
       "      <th></th>\n",
       "      <th></th>\n",
       "    </tr>\n",
       "  </thead>\n",
       "  <tbody>\n",
       "    <tr>\n",
       "      <th>2019-01-02</th>\n",
       "      <td>91.389999</td>\n",
       "      <td>89.930000</td>\n",
       "      <td>91.029999</td>\n",
       "      <td>91.279999</td>\n",
       "      <td>9843900.0</td>\n",
       "      <td>88.258690</td>\n",
       "      <td>91.154999</td>\n",
       "      <td>1</td>\n",
       "    </tr>\n",
       "    <tr>\n",
       "      <th>2019-01-03</th>\n",
       "      <td>92.500000</td>\n",
       "      <td>90.379997</td>\n",
       "      <td>90.940002</td>\n",
       "      <td>90.639999</td>\n",
       "      <td>9820200.0</td>\n",
       "      <td>87.639870</td>\n",
       "      <td>90.790001</td>\n",
       "      <td>2</td>\n",
       "    </tr>\n",
       "    <tr>\n",
       "      <th>2019-01-04</th>\n",
       "      <td>92.489998</td>\n",
       "      <td>90.370003</td>\n",
       "      <td>90.839996</td>\n",
       "      <td>92.489998</td>\n",
       "      <td>10565700.0</td>\n",
       "      <td>89.428635</td>\n",
       "      <td>91.664997</td>\n",
       "      <td>3</td>\n",
       "    </tr>\n",
       "    <tr>\n",
       "      <th>2019-01-07</th>\n",
       "      <td>92.500000</td>\n",
       "      <td>91.400002</td>\n",
       "      <td>91.910004</td>\n",
       "      <td>92.120003</td>\n",
       "      <td>9012500.0</td>\n",
       "      <td>89.070892</td>\n",
       "      <td>92.015003</td>\n",
       "      <td>4</td>\n",
       "    </tr>\n",
       "    <tr>\n",
       "      <th>2019-01-08</th>\n",
       "      <td>93.089996</td>\n",
       "      <td>91.820000</td>\n",
       "      <td>92.699997</td>\n",
       "      <td>92.459999</td>\n",
       "      <td>9551300.0</td>\n",
       "      <td>89.399635</td>\n",
       "      <td>92.579998</td>\n",
       "      <td>5</td>\n",
       "    </tr>\n",
       "  </tbody>\n",
       "</table>\n",
       "</div>"
      ],
      "text/plain": [
       "                 High        Low       Open      Close      Volume  Adj Close  \\\n",
       "Date                                                                            \n",
       "2019-01-02  91.389999  89.930000  91.029999  91.279999   9843900.0  88.258690   \n",
       "2019-01-03  92.500000  90.379997  90.940002  90.639999   9820200.0  87.639870   \n",
       "2019-01-04  92.489998  90.370003  90.839996  92.489998  10565700.0  89.428635   \n",
       "2019-01-07  92.500000  91.400002  91.910004  92.120003   9012500.0  89.070892   \n",
       "2019-01-08  93.089996  91.820000  92.699997  92.459999   9551300.0  89.399635   \n",
       "\n",
       "              Average  idCol  \n",
       "Date                          \n",
       "2019-01-02  91.154999      1  \n",
       "2019-01-03  90.790001      2  \n",
       "2019-01-04  91.664997      3  \n",
       "2019-01-07  92.015003      4  \n",
       "2019-01-08  92.579998      5  "
      ]
     },
     "execution_count": 89,
     "metadata": {},
     "output_type": "execute_result"
    }
   ],
   "source": [
    "# Ten year data for P&G:\n",
    "PG = DataReader('PG',  'yahoo', datetime(2019,1,1), datetime(2019,12,31));\n",
    "\n",
    "# # Avergae of opening and closing:\n",
    "PG[\"Average\"] = (PG[\"Open\"] + PG[\"Close\"])/2\n",
    "PG[\"idCol\"] = range(1,PG.shape[0]+1)\n",
    "\n",
    "# Required Dataset: \n",
    "PG.head()"
   ]
  },
  {
   "cell_type": "code",
   "execution_count": 90,
   "metadata": {},
   "outputs": [],
   "source": [
    "# Split-out validation dataset\n",
    "#knowing the dimenstions of data and making them READY for PREDICTIONS.\n",
    "# array = PG.values\n",
    "X = np.array(PG[\"idCol\"])\n",
    "Y = np.array(PG[\"Average\"])"
   ]
  },
  {
   "cell_type": "code",
   "execution_count": 91,
   "metadata": {},
   "outputs": [
    {
     "name": "stdout",
     "output_type": "stream",
     "text": [
      "728.7716513361247\n"
     ]
    }
   ],
   "source": [
    "#Covariation in data\n",
    "print(Covariance(X,Y))"
   ]
  },
  {
   "cell_type": "code",
   "execution_count": 92,
   "metadata": {},
   "outputs": [],
   "source": [
    "#Dividing data into training and testing classes\n",
    "test_size = 0.30\n",
    "seed = 7\n",
    "X_train, X_validation, Y_train, Y_validation = train_test_split(X, Y,test_size= test_size, random_state=seed)\n"
   ]
  },
  {
   "cell_type": "code",
   "execution_count": 93,
   "metadata": {},
   "outputs": [
    {
     "name": "stdout",
     "output_type": "stream",
     "text": [
      "94.1239944713633 0.13608333311899237\n",
      "[119.02724443 123.10974443 107.05191112 105.69107779  94.6683278\n",
      " 110.72616111 107.46016112 126.64791109 113.17566111 110.86224444\n",
      " 114.67257777 115.2169111  113.31174444 105.96324445 105.14674445\n",
      " 101.33641113  97.25391113 125.96749442 108.00449445 125.69532775\n",
      " 116.8499111  126.23966109 112.35916111 104.33024446 122.42932776\n",
      " 101.06424446 106.23541112  95.75699447 118.75507777  94.53224447\n",
      "  97.5260778  102.01682779 109.77357778 107.59624445 103.24157779\n",
      " 112.49524444 105.41891112  95.21266114 102.42507779 115.6251611\n",
      " 127.46441109 112.22307778  95.34874447 104.87457779  97.9343278\n",
      " 124.33449442 102.69724446 125.01491109 103.10549446 117.93857777\n",
      " 119.57157776 109.09316111 100.51991113 110.59007778 128.14482775\n",
      " 113.99216111 104.73849445 103.78591112  98.47866113 121.20457776\n",
      " 105.28282779 121.74891109  96.02916114 111.81482778  95.4848278\n",
      "  96.7095778  106.50757779 111.27049444 126.37574442 122.56541109\n",
      "  96.16524447  99.70341113 100.38382779 117.80249443  98.61474446\n",
      " 116.71382777] \n",
      "\n",
      " [122.70999908 121.49499893 107.3599968  106.03499985  92.0150032\n",
      " 110.56000137 106.40499878 124.46500015 114.77999878 109.84999847\n",
      " 114.63499832 116.88000107 113.22499847 104.86499786 105.17499924\n",
      " 101.90500259  97.61999893 123.63999939 104.07500076 122.33000183\n",
      " 121.48500061 124.4600029  115.27500153 106.03499985 123.48000336\n",
      " 102.10000229 104.45499802  90.67499924 121.64500046  91.6649971\n",
      "  97.58499908 102.72999954 111.07500076 106.72000122 104.45000076\n",
      " 115.80500031 105.54000092  91.71999741 103.95500183 118.61999893\n",
      " 124.54000092 114.52999878  91.32500076 103.18999863  97.87999725\n",
      " 120.76499939 103.68000031 120.26000214 103.63000107 120.56499863\n",
      " 124.49000168 108.52000046  99.18500137 111.91500092 125.82499695\n",
      " 118.85000229 103.50500107 104.90499878  98.71500015 118.69499969\n",
      " 105.67000198 118.25        90.91500092 113.40500259  91.58000183\n",
      "  93.66500092 105.625      111.04500198 124.59000015 123.39999771\n",
      "  94.50999832  98.52500153  98.61500168 120.45499802  99.27499771\n",
      " 120.93000031]\n",
      "0.9470515195854227\n",
      "0.9740713703404823\n"
     ]
    }
   ],
   "source": [
    "#finding intercepts of rgression line\n",
    "intercept=Intercept(X_train,Y_train)\n",
    "slope=Slope(X_train,Y_train)\n",
    "print(intercept,slope)\n",
    "predictions=Predictions(slope=slope,x_input=X_validation,intercept=intercept)\n",
    "predictions_train = Predictions(slope=slope,x_input=X_train,intercept=intercept)\n",
    "print(R_squared(predicted_values=predictions,test_values=Y_validation))\n",
    "print(correlation_coeff(test_values=Y_validation,predicted_values=predictions))"
   ]
  },
  {
   "cell_type": "code",
   "execution_count": null,
   "metadata": {},
   "outputs": [],
   "source": []
  },
  {
   "cell_type": "code",
   "execution_count": 13,
   "metadata": {},
   "outputs": [
    {
     "data": {
      "text/plain": [
       "<matplotlib.collections.PathCollection at 0x27de1a17d68>"
      ]
     },
     "execution_count": 13,
     "metadata": {},
     "output_type": "execute_result"
    },
    {
     "data": {
      "image/png": "[encoded data removed]",
      "text/plain": [
       "<Figure size 432x288 with 1 Axes>"
      ]
     },
     "metadata": {
      "needs_background": "light"
     },
     "output_type": "display_data"
    }
   ],
   "source": [
    "plt.scatter(X_train, Y_train)"
   ]
  },
  {
   "cell_type": "code",
   "execution_count": 94,
   "metadata": {},
   "outputs": [],
   "source": [
    "df_lr_validate = pd.DataFrame(predictions, X_validation, columns = [\"Y_pred\"])\n",
    "df_lr_train = pd.DataFrame(predictions_train, X_train, columns = [\"Y_train\"])"
   ]
  },
  {
   "cell_type": "code",
   "execution_count": 95,
   "metadata": {},
   "outputs": [
    {
     "name": "stdout",
     "output_type": "stream",
     "text": [
      "         Y_pred\n",
      "183  119.027244\n",
      "213  123.109744\n",
      "95   107.051911\n",
      "85   105.691078\n",
      "4     94.668328\n",
      "        Y_train\n",
      "116  109.909661\n",
      "161  116.033411\n",
      "29    98.070411\n",
      "64   102.833328\n",
      "185  119.299411\n"
     ]
    }
   ],
   "source": [
    "print(df_lr_validate.head())\n",
    "print(df_lr_train.head())"
   ]
  },
  {
   "cell_type": "code",
   "execution_count": 17,
   "metadata": {},
   "outputs": [
    {
     "data": {
      "image/png": "[encoded data removed]",
      "text/plain": [
       "<Figure size 432x288 with 1 Axes>"
      ]
     },
     "metadata": {},
     "output_type": "display_data"
    }
   ],
   "source": [
    "sns.set(style=\"whitegrid\")\n",
    "# Make an example dataset with y ~ x\n",
    "rs = np.random.RandomState(7)\n",
    "#Plot the residuals after fitting a linear model\n",
    "sns.residplot(X, Y, lowess=True, color=\"r\")\n",
    "plt.title('Residual Plot')\n",
    "plt.show()\n"
   ]
  },
  {
   "cell_type": "code",
   "execution_count": 21,
   "metadata": {},
   "outputs": [
    {
     "ename": "NameError",
     "evalue": "name 'Y_dash' is not defined",
     "output_type": "error",
     "traceback": [
      "\u001b[1;31m---------------------------------------------------------------------------\u001b[0m",
      "\u001b[1;31mNameError\u001b[0m                                 Traceback (most recent call last)",
      "\u001b[1;32m<ipython-input-21-20537e19b0e5>\u001b[0m in \u001b[0;36m<module>\u001b[1;34m\u001b[0m\n\u001b[1;32m----> 1\u001b[1;33m \u001b[0mmean_error\u001b[0m \u001b[1;33m=\u001b[0m \u001b[0mnp\u001b[0m\u001b[1;33m.\u001b[0m\u001b[0mmean\u001b[0m\u001b[1;33m(\u001b[0m\u001b[0mY_dash\u001b[0m \u001b[1;33m-\u001b[0m \u001b[0mPG\u001b[0m\u001b[1;33m[\u001b[0m\u001b[1;34m'Average'\u001b[0m\u001b[1;33m]\u001b[0m\u001b[1;33m)\u001b[0m\u001b[1;33m\u001b[0m\u001b[1;33m\u001b[0m\u001b[0m\n\u001b[0m\u001b[0;32m      2\u001b[0m \u001b[0mrms\u001b[0m \u001b[1;33m=\u001b[0m \u001b[0msqrt\u001b[0m\u001b[1;33m(\u001b[0m\u001b[0mmean_squared_error\u001b[0m\u001b[1;33m(\u001b[0m\u001b[0mPG\u001b[0m\u001b[1;33m[\u001b[0m\u001b[1;34m'Average'\u001b[0m\u001b[1;33m]\u001b[0m\u001b[1;33m,\u001b[0m \u001b[0mY_dash\u001b[0m\u001b[1;33m.\u001b[0m\u001b[0mfillna\u001b[0m\u001b[1;33m(\u001b[0m\u001b[1;36m0\u001b[0m\u001b[1;33m)\u001b[0m\u001b[1;33m)\u001b[0m\u001b[1;33m)\u001b[0m\u001b[1;33m\u001b[0m\u001b[1;33m\u001b[0m\u001b[0m\n\u001b[0;32m      3\u001b[0m \u001b[0mprint\u001b[0m\u001b[1;33m(\u001b[0m\u001b[0mrms\u001b[0m\u001b[1;33m)\u001b[0m\u001b[1;33m\u001b[0m\u001b[1;33m\u001b[0m\u001b[0m\n",
      "\u001b[1;31mNameError\u001b[0m: name 'Y_dash' is not defined"
     ]
    }
   ],
   "source": [
    "mean_error = np.mean(Y_dash - PG['Average'])\n",
    "rms = sqrt(mean_squared_error(PG['Average'], Y_dash.fillna(0)))\n",
    "print(rms)"
   ]
  },
  {
   "cell_type": "code",
   "execution_count": 96,
   "metadata": {},
   "outputs": [
    {
     "name": "stdout",
     "output_type": "stream",
     "text": [
      "2.3996715190154623\n"
     ]
    }
   ],
   "source": [
    "# Calculate root mean squared error\n",
    "def rmse_metric(actual, predicted):\n",
    "\tsum_error = 0.0\n",
    "\tfor i in range(len(actual)):\n",
    "\t\tprediction_error = predicted[i] - actual[i]\n",
    "\t\tsum_error += (prediction_error ** 2)\n",
    "\tmean_error = sum_error / float(len(actual))\n",
    "\treturn sqrt(mean_error)\n",
    " \n",
    "# Test RMSE\n",
    "actual = predictions\n",
    "predicted = Y_validation\n",
    "rmse = rmse_metric(actual, predicted)\n",
    "print(rmse)"
   ]
  },
  {
   "cell_type": "code",
   "execution_count": 55,
   "metadata": {},
   "outputs": [
    {
     "data": {
      "text/plain": [
       "Text(0, 0.5, 'Value')"
      ]
     },
     "execution_count": 55,
     "metadata": {},
     "output_type": "execute_result"
    },
    {
     "data": {
      "image/png": "[encoded data removed]",
      "text/plain": [
       "<Figure size 432x288 with 1 Axes>"
      ]
     },
     "metadata": {},
     "output_type": "display_data"
    }
   ],
   "source": [
    "#Equation of Linear Regression\n",
    "y=slope*X_validation+intercept\n",
    "\n",
    "#plotting the linear regression function\n",
    "plt.plot(X_validation, y, '-r')\n",
    "plt.scatter(X_validation,Y_validation)\n",
    "plt.title('One Year')\n",
    "plt.xlabel('Days')\n",
    "plt.ylabel('Value')\n"
   ]
  },
  {
   "cell_type": "code",
   "execution_count": 63,
   "metadata": {},
   "outputs": [
    {
     "data": {
      "text/plain": [
       "Text(0, 0.5, 'Value')"
      ]
     },
     "execution_count": 63,
     "metadata": {},
     "output_type": "execute_result"
    },
    {
     "data": {
      "image/png": "[encoded data removed]",
      "text/plain": [
       "<Figure size 432x288 with 1 Axes>"
      ]
     },
     "metadata": {},
     "output_type": "display_data"
    }
   ],
   "source": [
    "#Equation of Linear Regression\n",
    "y=slope*X_validation+intercept\n",
    "\n",
    "#plotting the linear regression function\n",
    "plt.plot(X_validation, y, '-r')\n",
    "plt.scatter(X_validation,Y_validation)\n",
    "plt.title('Two Years')\n",
    "plt.xlabel('Days')\n",
    "plt.ylabel('Value')"
   ]
  },
  {
   "cell_type": "code",
   "execution_count": 47,
   "metadata": {},
   "outputs": [
    {
     "data": {
      "text/plain": [
       "Text(0, 0.5, 'Value')"
      ]
     },
     "execution_count": 47,
     "metadata": {},
     "output_type": "execute_result"
    },
    {
     "data": {
      "image/png": "[encoded data removed]",
      "text/plain": [
       "<Figure size 432x288 with 1 Axes>"
      ]
     },
     "metadata": {},
     "output_type": "display_data"
    }
   ],
   "source": [
    "#Equation of Linear Regression\n",
    "y=slope*X_validation+intercept\n",
    "\n",
    "#plotting the linear regression function\n",
    "plt.plot(X_validation, y, '-r')\n",
    "plt.scatter(X_validation,Y_validation)\n",
    "plt.title('Five Years')\n",
    "plt.xlabel('Days')\n",
    "plt.ylabel('Value')"
   ]
  },
  {
   "cell_type": "code",
   "execution_count": 72,
   "metadata": {},
   "outputs": [
    {
     "data": {
      "text/plain": [
       "Text(0, 0.5, 'Value')"
      ]
     },
     "execution_count": 72,
     "metadata": {},
     "output_type": "execute_result"
    },
    {
     "data": {
      "image/png": "[encoded data removed]",
      "text/plain": [
       "<Figure size 432x288 with 1 Axes>"
      ]
     },
     "metadata": {},
     "output_type": "display_data"
    }
   ],
   "source": [
    "#Equation of Linear Regression\n",
    "y=slope*X_train+intercept\n",
    "\n",
    "#plotting the linear regression function\n",
    "plt.plot(X_train, y, '-r')\n",
    "plt.scatter(X_train,Y_train)\n",
    "plt.title('Ten Years')\n",
    "plt.xlabel('Days')\n",
    "plt.ylabel('Value')"
   ]
  },
  {
   "cell_type": "code",
   "execution_count": 98,
   "metadata": {},
   "outputs": [
    {
     "data": {
      "text/html": [
       "<div>\n",
       "<style scoped>\n",
       "    .dataframe tbody tr th:only-of-type {\n",
       "        vertical-align: middle;\n",
       "    }\n",
       "\n",
       "    .dataframe tbody tr th {\n",
       "        vertical-align: top;\n",
       "    }\n",
       "\n",
       "    .dataframe thead th {\n",
       "        text-align: right;\n",
       "    }\n",
       "</style>\n",
       "<table border=\"1\" class=\"dataframe\">\n",
       "  <thead>\n",
       "    <tr style=\"text-align: right;\">\n",
       "      <th></th>\n",
       "      <th>r2</th>\n",
       "      <th>rmse</th>\n",
       "      <th>correlation coef</th>\n",
       "      <th>covariance</th>\n",
       "    </tr>\n",
       "  </thead>\n",
       "  <tbody>\n",
       "    <tr>\n",
       "      <th>1</th>\n",
       "      <td>0.947052</td>\n",
       "      <td>2.399672</td>\n",
       "      <td>0.974071</td>\n",
       "      <td>728.771651</td>\n",
       "    </tr>\n",
       "    <tr>\n",
       "      <th>2</th>\n",
       "      <td>0.896069</td>\n",
       "      <td>5.518406</td>\n",
       "      <td>0.946943</td>\n",
       "      <td>2277.983694</td>\n",
       "    </tr>\n",
       "    <tr>\n",
       "      <th>5</th>\n",
       "      <td>0.498783</td>\n",
       "      <td>9.097153</td>\n",
       "      <td>0.708518</td>\n",
       "      <td>3316.752333</td>\n",
       "    </tr>\n",
       "    <tr>\n",
       "      <th>10</th>\n",
       "      <td>0.781335</td>\n",
       "      <td>7.529425</td>\n",
       "      <td>0.884068</td>\n",
       "      <td>11090.926879</td>\n",
       "    </tr>\n",
       "  </tbody>\n",
       "</table>\n",
       "</div>"
      ],
      "text/plain": [
       "          r2      rmse  correlation coef    covariance\n",
       "1   0.947052  2.399672          0.974071    728.771651\n",
       "2   0.896069  5.518406          0.946943   2277.983694\n",
       "5   0.498783  9.097153          0.708518   3316.752333\n",
       "10  0.781335  7.529425          0.884068  11090.926879"
      ]
     },
     "execution_count": 98,
     "metadata": {},
     "output_type": "execute_result"
    }
   ],
   "source": [
    "results = pd.DataFrame(np.array([[0.9470515195854227,2.3996715190154623,0.9740713703404823,728.7716513361247],\n",
    "                                 [0.8960687437672312,5.518406268657569,0.9469431230424618,2277.9836936177126],\n",
    "                                 [0.4987829801361877,9.097153466973404,0.7085175583463196,3316.7523330906843],\n",
    "                                 [0.7813351133123062,7.529424587499748,0.8840681911280253,11090.926879191684]]),\n",
    "                       columns=['r2','rmse','correlation coef','covariance'], \n",
    "                      index=[1,2,5,10])\n",
    "results.head()"
   ]
  }
 ],
 "metadata": {
  "kernelspec": {
   "display_name": "Python 3",
   "language": "python",
   "name": "python3"
  },
  "language_info": {
   "codemirror_mode": {
    "name": "ipython",
    "version": 3
   },
   "file_extension": ".py",
   "mimetype": "text/x-python",
   "name": "python",
   "nbconvert_exporter": "python",
   "pygments_lexer": "ipython3",
   "version": "3.7.2"
  }
 },
 "nbformat": 4,
 "nbformat_minor": 2
}
