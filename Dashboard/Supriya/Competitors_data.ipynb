{
 "cells": [
  {
   "cell_type": "code",
   "execution_count": 2,
   "metadata": {},
   "outputs": [],
   "source": [
    "import numpy as np\n",
    "import pandas as pd\n",
    "from scipy.optimize import minimize\n",
    "from pandas_datareader import DataReader\n",
    "from datetime import datetime\n",
    "from sklearn.neighbors import KernelDensity\n",
    "import matplotlib as plt\n",
    "import seaborn as sns"
   ]
  },
  {
   "cell_type": "code",
   "execution_count": 15,
   "metadata": {},
   "outputs": [],
   "source": [
    "PG = DataReader('PG',  'yahoo', datetime(2000,1,3), datetime(2019,12,31));\n",
    "JNJ=  DataReader('JNJ',  'yahoo', datetime(2000,1,3), datetime(2019,12,31));\n",
    "UL=  DataReader('UL',  'yahoo', datetime(2000,1,3), datetime(2019,12,31));\n",
    "CL=  DataReader('CL',  'yahoo', datetime(2000,1,3), datetime(2019,12,31));\n",
    "CHD=  DataReader('CHD',  'yahoo', datetime(2000,1,3), datetime(2019,12,31));\n"
   ]
  },
  {
   "cell_type": "code",
   "execution_count": 16,
   "metadata": {},
   "outputs": [],
   "source": [
    "PG_OPEN = PG['Open'];\n",
    "JNJ_OPEN=JNJ['Open'];\n",
    "UL_OPEN=UL['Open'];\n",
    "CL_OPEN=CL['Open']\n",
    "CHD_OPEN=CHD['Open']\n"
   ]
  },
  {
   "cell_type": "code",
   "execution_count": 17,
   "metadata": {},
   "outputs": [],
   "source": [
    "PG_CLOSE = PG['Close'];\n",
    "JNJ_CLOSE=JNJ['Close'];\n",
    "UL_CLOSE=UL['Close'];\n",
    "CL_CLOSE=CL['Close']\n",
    "CHD_CLOSE=CHD['Close']\n"
   ]
  },
  {
   "cell_type": "code",
   "execution_count": null,
   "metadata": {},
   "outputs": [],
   "source": []
  }
 ],
 "metadata": {
  "kernelspec": {
   "display_name": "Python 3",
   "language": "python",
   "name": "python3"
  },
  "language_info": {
   "codemirror_mode": {
    "name": "ipython",
    "version": 3
   },
   "file_extension": ".py",
   "mimetype": "text/x-python",
   "name": "python",
   "nbconvert_exporter": "python",
   "pygments_lexer": "ipython3",
   "version": "3.7.4"
  }
 },
 "nbformat": 4,
 "nbformat_minor": 2
}
