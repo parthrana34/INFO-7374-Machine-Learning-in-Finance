{
 "cells": [
  {
   "cell_type": "markdown",
   "metadata": {},
   "source": [
    "# Random Forest Regressor With \"Sklearn\" Library"
   ]
  },
  {
   "cell_type": "markdown",
   "metadata": {},
   "source": [
    "### Libraries"
   ]
  },
  {
   "cell_type": "code",
   "execution_count": 1,
   "metadata": {},
   "outputs": [
    {
     "name": "stdout",
     "output_type": "stream",
     "text": [
      "Populating the interactive namespace from numpy and matplotlib\n"
     ]
    }
   ],
   "source": [
    "from sklearn.model_selection import train_test_split\n",
    "from sklearn.linear_model import LinearRegression\n",
    "from sklearn.metrics import mean_squared_error\n",
    "from sklearn.ensemble import RandomForestRegressor\n",
    "from sklearn import metrics\n",
    "import warnings\n",
    "warnings.filterwarnings(\"ignore\")\n",
    "\n",
    "import numpy as np\n",
    "import pandas as pd\n",
    "import statsmodels.stats.api as sm\n",
    "import seaborn as sns\n",
    "\n",
    "%pylab inline"
   ]
  },
  {
   "cell_type": "markdown",
   "metadata": {},
   "source": [
    "### Loading Data Set"
   ]
  },
  {
   "cell_type": "code",
   "execution_count": 2,
   "metadata": {},
   "outputs": [],
   "source": [
    "# loading dataset\n",
    "def getData(strt_date = \"2019-01-01\", end_date = \"2019-12-31\"):\n",
    "    FF = pd.read_csv(\"C:\\\\Users\\\\sshai\\\\Desktop\\\\Northeastern University\\\\INFO 7374 ML In Finance\\\\INFO-7374-Machine-Learning-in-Finance\\\\Dashboard\\\\Shaishav\\\\fulldata.csv\")\n",
    "    # Date format change\n",
    "    FF[\"Date\"] = pd.to_datetime(FF[\"Date\"])\n",
    "    # Data selection\n",
    "    df = FF[(FF[\"Date\"] >= strt_date) & (FF[\"Date\"] <= end_date)]\n",
    "    # Reset Index\n",
    "    df = df.reset_index()\n",
    "    df = df.drop([\"index\"], axis =1)\n",
    "    # Average Column and no. of days calculations\n",
    "    df[\"Average\"] = (FF[\"Open\"] + 2*FF[\"High\"] + FF[\"Close\"])/4\n",
    "    df[\"Days\"] = range(1,df.shape[0]+1)\n",
    "    df[\"delta_Open\"] = (df.Open - df.Open.shift(periods=1))\n",
    "    df[\"delta_Close\"] = (df.Close - df.Close.shift(periods=1))\n",
    "    df[\"delta_RMW\"] = (df.RMW - df.RMW.shift(periods=1))\n",
    "    df[\"delta_SMB\"] = (df.SMB - df.SMB.shift(periods=1))\n",
    "    df[\"delta_MktRF\"] = (df[\"Mkt-RF\"] - df[\"Mkt-RF\"].shift(periods=1))\n",
    "    df[\"delta_HML\"] = (df.HML - df.HML.shift(periods=1))\n",
    "    df[\"delta_CMA\"] = (df.CMA - df.CMA.shift(periods=1))\n",
    "    df[\"delta_Average\"] = (df.Average - df.Average.shift(periods=1))\n",
    "    df = df.dropna().reset_index(drop=True)\n",
    "    \n",
    "    df[\"label\"] = df.delta_Open\n",
    "    df = df.drop(\"delta_Open\", axis=1)\n",
    "    \n",
    "    return df"
   ]
  },
  {
   "cell_type": "code",
   "execution_count": 3,
   "metadata": {},
   "outputs": [
    {
     "data": {
      "text/html": [
       "<div>\n",
       "<style scoped>\n",
       "    .dataframe tbody tr th:only-of-type {\n",
       "        vertical-align: middle;\n",
       "    }\n",
       "\n",
       "    .dataframe tbody tr th {\n",
       "        vertical-align: top;\n",
       "    }\n",
       "\n",
       "    .dataframe thead th {\n",
       "        text-align: right;\n",
       "    }\n",
       "</style>\n",
       "<table border=\"1\" class=\"dataframe\">\n",
       "  <thead>\n",
       "    <tr style=\"text-align: right;\">\n",
       "      <th></th>\n",
       "      <th>Date</th>\n",
       "      <th>Open</th>\n",
       "      <th>Close</th>\n",
       "      <th>Volume</th>\n",
       "      <th>Mkt-RF</th>\n",
       "      <th>SMB</th>\n",
       "      <th>HML</th>\n",
       "      <th>RMW</th>\n",
       "      <th>CMA</th>\n",
       "      <th>RF</th>\n",
       "      <th>Average</th>\n",
       "      <th>Days</th>\n",
       "      <th>delta_Close</th>\n",
       "      <th>delta_RMW</th>\n",
       "      <th>delta_SMB</th>\n",
       "      <th>delta_MktRF</th>\n",
       "      <th>delta_HML</th>\n",
       "      <th>delta_CMA</th>\n",
       "      <th>delta_Average</th>\n",
       "      <th>label</th>\n",
       "    </tr>\n",
       "  </thead>\n",
       "  <tbody>\n",
       "    <tr>\n",
       "      <td>0</td>\n",
       "      <td>2019-01-03</td>\n",
       "      <td>90.940002</td>\n",
       "      <td>90.639999</td>\n",
       "      <td>9820200</td>\n",
       "      <td>-2.45</td>\n",
       "      <td>0.52</td>\n",
       "      <td>1.23</td>\n",
       "      <td>-0.25</td>\n",
       "      <td>0.91</td>\n",
       "      <td>0.01</td>\n",
       "      <td>53.531250</td>\n",
       "      <td>2</td>\n",
       "      <td>-0.639999</td>\n",
       "      <td>-0.12</td>\n",
       "      <td>-0.21</td>\n",
       "      <td>-2.68</td>\n",
       "      <td>0.08</td>\n",
       "      <td>0.65</td>\n",
       "      <td>-0.328125</td>\n",
       "      <td>-0.089996</td>\n",
       "    </tr>\n",
       "    <tr>\n",
       "      <td>1</td>\n",
       "      <td>2019-01-04</td>\n",
       "      <td>90.839996</td>\n",
       "      <td>92.489998</td>\n",
       "      <td>10565700</td>\n",
       "      <td>3.55</td>\n",
       "      <td>0.39</td>\n",
       "      <td>-0.74</td>\n",
       "      <td>-0.09</td>\n",
       "      <td>-0.58</td>\n",
       "      <td>0.01</td>\n",
       "      <td>52.343750</td>\n",
       "      <td>3</td>\n",
       "      <td>1.849998</td>\n",
       "      <td>0.16</td>\n",
       "      <td>-0.13</td>\n",
       "      <td>6.00</td>\n",
       "      <td>-1.97</td>\n",
       "      <td>-1.49</td>\n",
       "      <td>-1.187500</td>\n",
       "      <td>-0.100006</td>\n",
       "    </tr>\n",
       "    <tr>\n",
       "      <td>2</td>\n",
       "      <td>2019-01-07</td>\n",
       "      <td>91.910004</td>\n",
       "      <td>92.120003</td>\n",
       "      <td>9012500</td>\n",
       "      <td>0.94</td>\n",
       "      <td>0.82</td>\n",
       "      <td>-0.67</td>\n",
       "      <td>-0.70</td>\n",
       "      <td>-0.41</td>\n",
       "      <td>0.01</td>\n",
       "      <td>53.984375</td>\n",
       "      <td>4</td>\n",
       "      <td>-0.369995</td>\n",
       "      <td>-0.61</td>\n",
       "      <td>0.43</td>\n",
       "      <td>-2.61</td>\n",
       "      <td>0.07</td>\n",
       "      <td>0.17</td>\n",
       "      <td>1.640625</td>\n",
       "      <td>1.070007</td>\n",
       "    </tr>\n",
       "    <tr>\n",
       "      <td>3</td>\n",
       "      <td>2019-01-08</td>\n",
       "      <td>92.699997</td>\n",
       "      <td>92.459999</td>\n",
       "      <td>9551300</td>\n",
       "      <td>1.01</td>\n",
       "      <td>0.44</td>\n",
       "      <td>-0.53</td>\n",
       "      <td>0.35</td>\n",
       "      <td>-0.09</td>\n",
       "      <td>0.01</td>\n",
       "      <td>57.507812</td>\n",
       "      <td>5</td>\n",
       "      <td>0.339996</td>\n",
       "      <td>1.05</td>\n",
       "      <td>-0.38</td>\n",
       "      <td>0.07</td>\n",
       "      <td>0.14</td>\n",
       "      <td>0.32</td>\n",
       "      <td>3.523438</td>\n",
       "      <td>0.789993</td>\n",
       "    </tr>\n",
       "    <tr>\n",
       "      <td>4</td>\n",
       "      <td>2019-01-09</td>\n",
       "      <td>92.690002</td>\n",
       "      <td>90.949997</td>\n",
       "      <td>15015600</td>\n",
       "      <td>0.56</td>\n",
       "      <td>0.51</td>\n",
       "      <td>-0.04</td>\n",
       "      <td>0.09</td>\n",
       "      <td>-0.18</td>\n",
       "      <td>0.01</td>\n",
       "      <td>58.296875</td>\n",
       "      <td>6</td>\n",
       "      <td>-1.510002</td>\n",
       "      <td>-0.26</td>\n",
       "      <td>0.07</td>\n",
       "      <td>-0.45</td>\n",
       "      <td>0.49</td>\n",
       "      <td>-0.09</td>\n",
       "      <td>0.789062</td>\n",
       "      <td>-0.009995</td>\n",
       "    </tr>\n",
       "  </tbody>\n",
       "</table>\n",
       "</div>"
      ],
      "text/plain": [
       "        Date       Open      Close    Volume  Mkt-RF   SMB   HML   RMW   CMA  \\\n",
       "0 2019-01-03  90.940002  90.639999   9820200   -2.45  0.52  1.23 -0.25  0.91   \n",
       "1 2019-01-04  90.839996  92.489998  10565700    3.55  0.39 -0.74 -0.09 -0.58   \n",
       "2 2019-01-07  91.910004  92.120003   9012500    0.94  0.82 -0.67 -0.70 -0.41   \n",
       "3 2019-01-08  92.699997  92.459999   9551300    1.01  0.44 -0.53  0.35 -0.09   \n",
       "4 2019-01-09  92.690002  90.949997  15015600    0.56  0.51 -0.04  0.09 -0.18   \n",
       "\n",
       "     RF    Average  Days  delta_Close  delta_RMW  delta_SMB  delta_MktRF  \\\n",
       "0  0.01  53.531250     2    -0.639999      -0.12      -0.21        -2.68   \n",
       "1  0.01  52.343750     3     1.849998       0.16      -0.13         6.00   \n",
       "2  0.01  53.984375     4    -0.369995      -0.61       0.43        -2.61   \n",
       "3  0.01  57.507812     5     0.339996       1.05      -0.38         0.07   \n",
       "4  0.01  58.296875     6    -1.510002      -0.26       0.07        -0.45   \n",
       "\n",
       "   delta_HML  delta_CMA  delta_Average     label  \n",
       "0       0.08       0.65      -0.328125 -0.089996  \n",
       "1      -1.97      -1.49      -1.187500 -0.100006  \n",
       "2       0.07       0.17       1.640625  1.070007  \n",
       "3       0.14       0.32       3.523438  0.789993  \n",
       "4       0.49      -0.09       0.789062 -0.009995  "
      ]
     },
     "execution_count": 3,
     "metadata": {},
     "output_type": "execute_result"
    }
   ],
   "source": [
    "## One year data\n",
    "df = getData()\n",
    "\n",
    "## Removing correlated columns\n",
    "df.columns\n",
    "df = df.drop([\"High\",\"Low\",\"Adj Close\",\" HC- Open\",\" HC- High\",\" HC- Low\",\" HC- Close\"], axis=1)\n",
    "df.head()"
   ]
  },
  {
   "cell_type": "markdown",
   "metadata": {},
   "source": [
    "### Tweaking Data set as per requirements"
   ]
  },
  {
   "cell_type": "code",
   "execution_count": 4,
   "metadata": {},
   "outputs": [
    {
     "data": {
      "text/html": [
       "<div>\n",
       "<style scoped>\n",
       "    .dataframe tbody tr th:only-of-type {\n",
       "        vertical-align: middle;\n",
       "    }\n",
       "\n",
       "    .dataframe tbody tr th {\n",
       "        vertical-align: top;\n",
       "    }\n",
       "\n",
       "    .dataframe thead th {\n",
       "        text-align: right;\n",
       "    }\n",
       "</style>\n",
       "<table border=\"1\" class=\"dataframe\">\n",
       "  <thead>\n",
       "    <tr style=\"text-align: right;\">\n",
       "      <th></th>\n",
       "      <th>Date</th>\n",
       "      <th>Open</th>\n",
       "      <th>Close</th>\n",
       "      <th>Volume</th>\n",
       "      <th>Mkt-RF</th>\n",
       "      <th>SMB</th>\n",
       "      <th>HML</th>\n",
       "      <th>RMW</th>\n",
       "      <th>CMA</th>\n",
       "      <th>RF</th>\n",
       "      <th>Average</th>\n",
       "      <th>Days</th>\n",
       "      <th>delta_Close</th>\n",
       "      <th>delta_RMW</th>\n",
       "      <th>delta_SMB</th>\n",
       "      <th>delta_MktRF</th>\n",
       "      <th>delta_HML</th>\n",
       "      <th>delta_CMA</th>\n",
       "      <th>delta_Average</th>\n",
       "      <th>label</th>\n",
       "    </tr>\n",
       "  </thead>\n",
       "  <tbody>\n",
       "    <tr>\n",
       "      <td>0</td>\n",
       "      <td>2019-01-03</td>\n",
       "      <td>90.940002</td>\n",
       "      <td>90.639999</td>\n",
       "      <td>9820200.0</td>\n",
       "      <td>-2.45</td>\n",
       "      <td>0.52</td>\n",
       "      <td>1.23</td>\n",
       "      <td>-0.25</td>\n",
       "      <td>0.91</td>\n",
       "      <td>0.01</td>\n",
       "      <td>53.531250</td>\n",
       "      <td>2.0</td>\n",
       "      <td>-0.639999</td>\n",
       "      <td>-0.12</td>\n",
       "      <td>-0.21</td>\n",
       "      <td>-2.68</td>\n",
       "      <td>0.08</td>\n",
       "      <td>0.65</td>\n",
       "      <td>-0.328125</td>\n",
       "      <td>-0.100006</td>\n",
       "    </tr>\n",
       "    <tr>\n",
       "      <td>1</td>\n",
       "      <td>2019-01-04</td>\n",
       "      <td>90.839996</td>\n",
       "      <td>92.489998</td>\n",
       "      <td>10565700.0</td>\n",
       "      <td>3.55</td>\n",
       "      <td>0.39</td>\n",
       "      <td>-0.74</td>\n",
       "      <td>-0.09</td>\n",
       "      <td>-0.58</td>\n",
       "      <td>0.01</td>\n",
       "      <td>52.343750</td>\n",
       "      <td>3.0</td>\n",
       "      <td>1.849998</td>\n",
       "      <td>0.16</td>\n",
       "      <td>-0.13</td>\n",
       "      <td>6.00</td>\n",
       "      <td>-1.97</td>\n",
       "      <td>-1.49</td>\n",
       "      <td>-1.187500</td>\n",
       "      <td>1.070007</td>\n",
       "    </tr>\n",
       "    <tr>\n",
       "      <td>2</td>\n",
       "      <td>2019-01-07</td>\n",
       "      <td>91.910004</td>\n",
       "      <td>92.120003</td>\n",
       "      <td>9012500.0</td>\n",
       "      <td>0.94</td>\n",
       "      <td>0.82</td>\n",
       "      <td>-0.67</td>\n",
       "      <td>-0.70</td>\n",
       "      <td>-0.41</td>\n",
       "      <td>0.01</td>\n",
       "      <td>53.984375</td>\n",
       "      <td>4.0</td>\n",
       "      <td>-0.369995</td>\n",
       "      <td>-0.61</td>\n",
       "      <td>0.43</td>\n",
       "      <td>-2.61</td>\n",
       "      <td>0.07</td>\n",
       "      <td>0.17</td>\n",
       "      <td>1.640625</td>\n",
       "      <td>0.789993</td>\n",
       "    </tr>\n",
       "    <tr>\n",
       "      <td>3</td>\n",
       "      <td>2019-01-08</td>\n",
       "      <td>92.699997</td>\n",
       "      <td>92.459999</td>\n",
       "      <td>9551300.0</td>\n",
       "      <td>1.01</td>\n",
       "      <td>0.44</td>\n",
       "      <td>-0.53</td>\n",
       "      <td>0.35</td>\n",
       "      <td>-0.09</td>\n",
       "      <td>0.01</td>\n",
       "      <td>57.507812</td>\n",
       "      <td>5.0</td>\n",
       "      <td>0.339996</td>\n",
       "      <td>1.05</td>\n",
       "      <td>-0.38</td>\n",
       "      <td>0.07</td>\n",
       "      <td>0.14</td>\n",
       "      <td>0.32</td>\n",
       "      <td>3.523438</td>\n",
       "      <td>-0.009995</td>\n",
       "    </tr>\n",
       "    <tr>\n",
       "      <td>4</td>\n",
       "      <td>2019-01-09</td>\n",
       "      <td>92.690002</td>\n",
       "      <td>90.949997</td>\n",
       "      <td>15015600.0</td>\n",
       "      <td>0.56</td>\n",
       "      <td>0.51</td>\n",
       "      <td>-0.04</td>\n",
       "      <td>0.09</td>\n",
       "      <td>-0.18</td>\n",
       "      <td>0.01</td>\n",
       "      <td>58.296875</td>\n",
       "      <td>6.0</td>\n",
       "      <td>-1.510002</td>\n",
       "      <td>-0.26</td>\n",
       "      <td>0.07</td>\n",
       "      <td>-0.45</td>\n",
       "      <td>0.49</td>\n",
       "      <td>-0.09</td>\n",
       "      <td>0.789062</td>\n",
       "      <td>-1.800003</td>\n",
       "    </tr>\n",
       "  </tbody>\n",
       "</table>\n",
       "</div>"
      ],
      "text/plain": [
       "        Date       Open      Close      Volume  Mkt-RF   SMB   HML   RMW  \\\n",
       "0 2019-01-03  90.940002  90.639999   9820200.0   -2.45  0.52  1.23 -0.25   \n",
       "1 2019-01-04  90.839996  92.489998  10565700.0    3.55  0.39 -0.74 -0.09   \n",
       "2 2019-01-07  91.910004  92.120003   9012500.0    0.94  0.82 -0.67 -0.70   \n",
       "3 2019-01-08  92.699997  92.459999   9551300.0    1.01  0.44 -0.53  0.35   \n",
       "4 2019-01-09  92.690002  90.949997  15015600.0    0.56  0.51 -0.04  0.09   \n",
       "\n",
       "    CMA    RF    Average  Days  delta_Close  delta_RMW  delta_SMB  \\\n",
       "0  0.91  0.01  53.531250   2.0    -0.639999      -0.12      -0.21   \n",
       "1 -0.58  0.01  52.343750   3.0     1.849998       0.16      -0.13   \n",
       "2 -0.41  0.01  53.984375   4.0    -0.369995      -0.61       0.43   \n",
       "3 -0.09  0.01  57.507812   5.0     0.339996       1.05      -0.38   \n",
       "4 -0.18  0.01  58.296875   6.0    -1.510002      -0.26       0.07   \n",
       "\n",
       "   delta_MktRF  delta_HML  delta_CMA  delta_Average     label  \n",
       "0        -2.68       0.08       0.65      -0.328125 -0.100006  \n",
       "1         6.00      -1.97      -1.49      -1.187500  1.070007  \n",
       "2        -2.61       0.07       0.17       1.640625  0.789993  \n",
       "3         0.07       0.14       0.32       3.523438 -0.009995  \n",
       "4        -0.45       0.49      -0.09       0.789062 -1.800003  "
      ]
     },
     "execution_count": 4,
     "metadata": {},
     "output_type": "execute_result"
    }
   ],
   "source": [
    "df_x = df.drop(\"label\", axis =1).shift(periods=1).dropna().reset_index(drop=True)\n",
    "df_y = df[[\"label\"]].shift(periods=-1).dropna().reset_index(drop=True)\n",
    "modified_df = pd.concat([df_x,df_y], axis =1)\n",
    "\n",
    "modified_df.head()"
   ]
  },
  {
   "cell_type": "markdown",
   "metadata": {},
   "source": [
    "### Train and Test Data Set"
   ]
  },
  {
   "cell_type": "code",
   "execution_count": 5,
   "metadata": {},
   "outputs": [],
   "source": [
    "## Train and Test Data\n",
    "train_start_date = \"2019-01-01\"\n",
    "train_end_date =  \"2019-10-31\"\n",
    "test_start_date = \"2019-11-01\"\n",
    "test_end_date = \"2019-12-31\"\n",
    "df_train = df[(df[\"Date\"] >= train_start_date) & (df[\"Date\"] <= train_end_date)]\n",
    "df_test = df[(df[\"Date\"] >= test_start_date) & (df[\"Date\"] <= test_end_date)]\n",
    "df_train = df_train.drop([\"Date\",\"Days\",\"Close\",\"Mkt-RF\",\"SMB\",\"HML\",\"RMW\",\"CMA\",\"Average\"], axis=1)\n",
    "df_test = df_test.drop([\"Date\",\"Days\",\"Close\",\"Mkt-RF\",\"SMB\",\"HML\",\"RMW\",\"CMA\",\"Average\"], axis=1)"
   ]
  },
  {
   "cell_type": "code",
   "execution_count": 6,
   "metadata": {},
   "outputs": [],
   "source": [
    "X_train= df_train.drop([\"label\"],axis=1)\n",
    "X_test= df_test.drop([\"label\"], axis=1)\n",
    "Y_train = df_train[[\"label\"]]\n",
    "Y_test=df_test[[\"label\"]]"
   ]
  },
  {
   "cell_type": "markdown",
   "metadata": {},
   "source": [
    "### Model Fitting and Results for Change in Open"
   ]
  },
  {
   "cell_type": "code",
   "execution_count": 7,
   "metadata": {},
   "outputs": [],
   "source": [
    "regressor = RandomForestRegressor(bootstrap=True, max_depth=2, n_estimators=2, max_features=3, max_samples=150, min_samples_leaf=5)\n",
    "regressor.fit(X_train, Y_train)\n",
    "Y_pred = regressor.predict(X_test)"
   ]
  },
  {
   "cell_type": "markdown",
   "metadata": {},
   "source": [
    "### Actual Predictions for Open"
   ]
  },
  {
   "cell_type": "code",
   "execution_count": 8,
   "metadata": {},
   "outputs": [
    {
     "data": {
      "text/html": [
       "<div>\n",
       "<style scoped>\n",
       "    .dataframe tbody tr th:only-of-type {\n",
       "        vertical-align: middle;\n",
       "    }\n",
       "\n",
       "    .dataframe tbody tr th {\n",
       "        vertical-align: top;\n",
       "    }\n",
       "\n",
       "    .dataframe thead th {\n",
       "        text-align: right;\n",
       "    }\n",
       "</style>\n",
       "<table border=\"1\" class=\"dataframe\">\n",
       "  <thead>\n",
       "    <tr style=\"text-align: right;\">\n",
       "      <th></th>\n",
       "      <th>Change_Pred</th>\n",
       "      <th>Change_Actual</th>\n",
       "      <th>Open_Act</th>\n",
       "      <th>Open_pred</th>\n",
       "    </tr>\n",
       "  </thead>\n",
       "  <tbody>\n",
       "    <tr>\n",
       "      <td>0</td>\n",
       "      <td>0.101974</td>\n",
       "      <td>-0.910004</td>\n",
       "      <td>123.919998</td>\n",
       "      <td>124.931976</td>\n",
       "    </tr>\n",
       "    <tr>\n",
       "      <td>1</td>\n",
       "      <td>0.101974</td>\n",
       "      <td>-5.089996</td>\n",
       "      <td>118.830002</td>\n",
       "      <td>124.021972</td>\n",
       "    </tr>\n",
       "    <tr>\n",
       "      <td>2</td>\n",
       "      <td>-0.204477</td>\n",
       "      <td>0.269997</td>\n",
       "      <td>119.099999</td>\n",
       "      <td>118.625525</td>\n",
       "    </tr>\n",
       "    <tr>\n",
       "      <td>3</td>\n",
       "      <td>-0.647500</td>\n",
       "      <td>1.239998</td>\n",
       "      <td>120.339996</td>\n",
       "      <td>118.452499</td>\n",
       "    </tr>\n",
       "    <tr>\n",
       "      <td>4</td>\n",
       "      <td>0.215611</td>\n",
       "      <td>-0.489998</td>\n",
       "      <td>119.849999</td>\n",
       "      <td>120.555607</td>\n",
       "    </tr>\n",
       "  </tbody>\n",
       "</table>\n",
       "</div>"
      ],
      "text/plain": [
       "   Change_Pred  Change_Actual    Open_Act   Open_pred\n",
       "0     0.101974      -0.910004  123.919998  124.931976\n",
       "1     0.101974      -5.089996  118.830002  124.021972\n",
       "2    -0.204477       0.269997  119.099999  118.625525\n",
       "3    -0.647500       1.239998  120.339996  118.452499\n",
       "4     0.215611      -0.489998  119.849999  120.555607"
      ]
     },
     "execution_count": 8,
     "metadata": {},
     "output_type": "execute_result"
    }
   ],
   "source": [
    "predictions = list(Y_pred)\n",
    "Actual = list(Y_test[\"label\"])\n",
    "Open_Act = list(df_test[\"Open\"])\n",
    "\n",
    "df_pred = pd.DataFrame(list(zip(predictions,Actual,Open_Act)), columns = [\"Change_Pred\",\"Change_Actual\",\"Open_Act\"])\n",
    "df_pred[\"Open_pred\"] = df_pred.Change_Pred + df_test.Open.shift(1).reset_index(drop=True)\n",
    "df_pred = df_pred.dropna().reset_index(drop=True)\n",
    "df_pred.head()"
   ]
  },
  {
   "cell_type": "markdown",
   "metadata": {},
   "source": [
    "### Evaluation"
   ]
  },
  {
   "cell_type": "code",
   "execution_count": 9,
   "metadata": {},
   "outputs": [
    {
     "name": "stdout",
     "output_type": "stream",
     "text": [
      "Mean Absolute Error: 0.8091454425295688\n",
      "Mean Squared Error: 1.401702581620156\n",
      "Root Mean Squared Error: 1.1839352100601435\n",
      "R_2 Error: 0.7228986048682009\n"
     ]
    }
   ],
   "source": [
    "print('Mean Absolute Error:', metrics.mean_absolute_error(df_pred.Open_Act, df_pred.Open_pred))\n",
    "print('Mean Squared Error:', metrics.mean_squared_error(df_pred.Open_Act, df_pred.Open_pred))\n",
    "print('Root Mean Squared Error:', np.sqrt(metrics.mean_squared_error(df_pred.Open_Act, df_pred.Open_pred)))\n",
    "print('R_2 Error:', metrics.r2_score(df_pred.Open_Act, df_pred.Open_pred))"
   ]
  },
  {
   "cell_type": "markdown",
   "metadata": {},
   "source": [
    "### Feature Selection based on optimum solution"
   ]
  },
  {
   "cell_type": "code",
   "execution_count": 10,
   "metadata": {},
   "outputs": [
    {
     "name": "stdout",
     "output_type": "stream",
     "text": [
      "Open             0.294366\n",
      "delta_SMB        0.279053\n",
      "delta_Average    0.255210\n",
      "Volume           0.171372\n",
      "delta_CMA        0.000000\n",
      "delta_HML        0.000000\n",
      "delta_MktRF      0.000000\n",
      "delta_RMW        0.000000\n",
      "delta_Close      0.000000\n",
      "RF               0.000000\n",
      "dtype: float64\n"
     ]
    },
    {
     "data": {
      "image/png": "[encoded data removed]",
      "text/plain": [
       "<Figure size 432x288 with 1 Axes>"
      ]
     },
     "metadata": {
      "needs_background": "light"
     },
     "output_type": "display_data"
    }
   ],
   "source": [
    "## Feature Selection Importance\n",
    "imp_feature = pd.Series(regressor.feature_importances_,index = X_train.columns.values).sort_values(ascending=False)\n",
    "print(imp_feature)\n",
    "\n",
    "sns.barplot(x=imp_feature, y=imp_feature.index)\n",
    "plt.xlabel('Feature Importance Score')\n",
    "plt.ylabel('Features')\n",
    "plt.title(\"Visualizing Important Features\")\n",
    "plt.show()"
   ]
  },
  {
   "cell_type": "markdown",
   "metadata": {},
   "source": [
    "### Visualisation"
   ]
  },
  {
   "cell_type": "code",
   "execution_count": 11,
   "metadata": {},
   "outputs": [],
   "source": [
    "def create_plot(predictions, labels, title):    \n",
    "    plot_df = pd.DataFrame({\"actual\": labels, \"predictions\": predictions})\n",
    "    plot_df.plot(figsize=(18, 5), title=title)\n",
    "    \n",
    "    return"
   ]
  },
  {
   "cell_type": "code",
   "execution_count": 12,
   "metadata": {},
   "outputs": [
    {
     "data": {
      "image/png": "[encoded data removed]",
      "text/plain": [
       "<Figure size 1296x360 with 1 Axes>"
      ]
     },
     "metadata": {
      "needs_background": "light"
     },
     "output_type": "display_data"
    }
   ],
   "source": [
    "create_plot(df_pred.Open_Act, df_pred.Open_pred,title=\"Test Data\")"
   ]
  },
  {
   "cell_type": "code",
   "execution_count": null,
   "metadata": {},
   "outputs": [],
   "source": []
  }
 ],
 "metadata": {
  "kernelspec": {
   "display_name": "Python 3",
   "language": "python",
   "name": "python3"
  },
  "language_info": {
   "codemirror_mode": {
    "name": "ipython",
    "version": 3
   },
   "file_extension": ".py",
   "mimetype": "text/x-python",
   "name": "python",
   "nbconvert_exporter": "python",
   "pygments_lexer": "ipython3",
   "version": "3.7.4"
  }
 },
 "nbformat": 4,
 "nbformat_minor": 2
}
