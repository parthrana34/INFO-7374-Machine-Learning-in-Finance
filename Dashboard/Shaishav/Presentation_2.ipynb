{
 "cells": [
  {
   "cell_type": "markdown",
   "metadata": {},
   "source": [
    "## OLS Model"
   ]
  },
  {
   "cell_type": "code",
   "execution_count": 18,
   "metadata": {},
   "outputs": [],
   "source": [
    "## Laading libraries\n",
    "import numpy as np\n",
    "import matplotlib.pyplot as plt\n",
    "from math import sqrt\n",
    "import pandas as pd\n",
    "import seaborn as sns\n",
    "from sklearn.model_selection import train_test_split\n",
    "import matplotlib.patches as mpatches\n",
    "from scipy.optimize import minimize\n",
    "from pandas_datareader import DataReader\n",
    "from datetime import datetime\n",
    "from sklearn.metrics import mean_squared_error\n",
    "%matplotlib inline"
   ]
  },
  {
   "cell_type": "code",
   "execution_count": 19,
   "metadata": {},
   "outputs": [],
   "source": [
    "# # 2019 stock data for P&G from Yahoo:\n",
    "# PG = DataReader('PG',  'yahoo', datetime(2019,1,1), datetime(2019,12,31));\n",
    "\n",
    "# # # Avergae of opening and closing:\n",
    "# PG[\"Average\"] = (PG[\"Open\"] + 2*PG[\"High\"] + PG[\"Close\"])/4\n",
    "# PG[\"Days\"] = range(1,PG.shape[0]+1)\n",
    "\n",
    "# # Required Dataset: \n",
    "# print(PG.shape)\n",
    "# print(PG.head())"
   ]
  },
  {
   "cell_type": "code",
   "execution_count": 20,
   "metadata": {},
   "outputs": [],
   "source": [
    "# loading dataset\n",
    "def getData(strt_date, end_date):\n",
    "    FF = pd.read_csv(\"C:\\\\Users\\\\sshai\\\\Desktop\\\\Northeastern University\\\\INFO 7374 ML In Finance\\\\INFO-7374-Machine-Learning-in-Finance\\\\Dashboard\\\\Shaishav\\\\data.csv\")\n",
    "    # Date format change\n",
    "    FF[\"Date\"] = pd.to_datetime(FF[\"Date\"])\n",
    "    # Data selection\n",
    "    df = FF[(FF[\"Date\"] >= strt_date) & (FF[\"Date\"] <= end_date)]\n",
    "    # Reset Index\n",
    "    df = df.reset_index()\n",
    "    df = df.drop([\"index\"], axis =1)\n",
    "    # Average Column and no. of days calculations\n",
    "    df[\"Average\"] = (FF[\"Open\"] + 2*FF[\"High\"] + FF[\"Close\"])/4\n",
    "    df[\"Days\"] = range(1,df.shape[0]+1)\n",
    "    df[\"beta_0\"] = 1\n",
    "    return df"
   ]
  },
  {
   "cell_type": "code",
   "execution_count": 21,
   "metadata": {},
   "outputs": [],
   "source": [
    "def variable_correlation(df):\n",
    "    fig, ax = plt.subplots(figsize=(20,20))\n",
    "    sns.heatmap(df.corr(), center=0, cmap=\"BrBG\", annot=True)"
   ]
  },
  {
   "cell_type": "code",
   "execution_count": 22,
   "metadata": {},
   "outputs": [],
   "source": [
    "def beta_values(df, colm):\n",
    "    x_t = np.array(df[colm].shift(periods=-1).dropna())\n",
    "    y_t = np.array(df[[\"Open\"]].shift(periods=1).dropna())\n",
    "    b_t = np.matmul(np.matmul(np.linalg.inv(np.matmul(x_t.T,x_t)),x_t.T),y_t)\n",
    "    b_t = b_t.tolist()\n",
    "    b_t = [item for sublist in b_t for item in sublist]\n",
    "    return b_t"
   ]
  },
  {
   "cell_type": "code",
   "execution_count": 23,
   "metadata": {},
   "outputs": [],
   "source": [
    "def predictions(beta, df, colm):\n",
    "    x_t = np.array(df[colm].shift(periods=-1).dropna())\n",
    "    b_t = beta\n",
    "    y_pred = np.matmul(x_t,b_t)\n",
    "    return y_pred"
   ]
  },
  {
   "cell_type": "code",
   "execution_count": 24,
   "metadata": {},
   "outputs": [],
   "source": [
    "def error_cal(ypred,df):\n",
    "    y_pred = ypred\n",
    "    y_act = df['Open'][:-1]\n",
    "    error = list(y_act - y_pred)\n",
    "    return error"
   ]
  },
  {
   "cell_type": "code",
   "execution_count": 25,
   "metadata": {},
   "outputs": [],
   "source": [
    "def residual_variance(error):\n",
    "    SSE = sum(map(lambda i : i * i, error)) \n",
    "    return SSE    "
   ]
  },
  {
   "cell_type": "code",
   "execution_count": 26,
   "metadata": {},
   "outputs": [],
   "source": [
    "def totalError_Square(df):\n",
    "    y_act = df['Open'][:-1]\n",
    "    n = len(df[\"Open\"][:-1])\n",
    "    y_mean = sum(df[\"Open\"])/n\n",
    "    res = list(y_act - y_mean)\n",
    "    SST = sum(map(lambda i : i * i, res))\n",
    "    return SST"
   ]
  },
  {
   "cell_type": "code",
   "execution_count": 27,
   "metadata": {},
   "outputs": [],
   "source": [
    "def R_squared(error, df):\n",
    "    SSE = residual_variance(error)\n",
    "    SSR = totalError_Square(df_main)\n",
    "    r2 = 1 - float(SSE/SSR)\n",
    "    return r2 "
   ]
  },
  {
   "cell_type": "code",
   "execution_count": 31,
   "metadata": {},
   "outputs": [],
   "source": [
    "def rmse_value(error):\n",
    "    SSE = residual_variance(error)\n",
    "    n = len(error)\n",
    "    rmse = sqrt(SSE/n)\n",
    "    return rmse"
   ]
  },
  {
   "cell_type": "code",
   "execution_count": 62,
   "metadata": {},
   "outputs": [
    {
     "name": "stdout",
     "output_type": "stream",
     "text": [
      "R_2 value:  0.8677910364252033\n",
      "rmse value:  4.272110085145369\n"
     ]
    }
   ],
   "source": [
    "## User input, can be changed\n",
    "strt_date = \"2009-01-01\"\n",
    "end_date = \"2017-12-31\"\n",
    "\n",
    "## final dataset\n",
    "df_main = getData(strt_date, end_date)\n",
    "# print(df_main.head())\n",
    "# print(df_main.shape)\n",
    "# plt.scatter(df_main[\"Days\"],df_main[\"Open\"])\n",
    "\n",
    "## EDA\n",
    "# variable_correlation(df_main)\n",
    "\n",
    "\n",
    "## Variable selection for OLS:\n",
    "colm = ['beta_0','RF', 'RMW', 'Days', \"Average\",\"Volume\",\"SMB\",\"Mkt-RF\",\"HML\",\"CMA\"]\n",
    "# colm = ['beta_0','RF', 'Average','CMA', 'SMB', \"HML\", \"Days\", \"Volume\"]\n",
    "\n",
    "## Calculating beta_values:\n",
    "b_t = beta_values(df_main, colm)\n",
    "\n",
    "# Sorting variables based on their beta values\n",
    "df_beta = pd.DataFrame(list(zip(colm, b_t)), columns = [\"Variables\",\"Beta_Coeff\"])\n",
    "df_beta = df_beta.sort_values(by=['Beta_Coeff'], ascending=False) \n",
    "# print(df_beta)\n",
    "\n",
    "# Calculating Error using beta values found\n",
    "y_pred = predictions(b_t, df_main, colm)\n",
    "e = error_cal(y_pred, df_main)\n",
    "\n",
    "# Calculating accuracy estimators:\n",
    "r2 = R_squared(e, df_main)\n",
    "rmse = rmse_value(e)\n",
    "print(\"R_2 value: \",r2)\n",
    "print(\"rmse value: \",rmse)"
   ]
  },
  {
   "cell_type": "code",
   "execution_count": 63,
   "metadata": {},
   "outputs": [
    {
     "data": {
      "text/plain": [
       "<matplotlib.collections.PathCollection at 0x1f1deb36948>"
      ]
     },
     "execution_count": 63,
     "metadata": {},
     "output_type": "execute_result"
    },
    {
     "data": {
      "image/png": "[encoded data removed]",
      "text/plain": [
       "<Figure size 432x288 with 1 Axes>"
      ]
     },
     "metadata": {
      "needs_background": "light"
     },
     "output_type": "display_data"
    }
   ],
   "source": [
    "# PLotting graph of y_pred vs y_act:\n",
    "x = df_main[\"Days\"][1:]\n",
    "y = df_main[\"Open\"][:-1]\n",
    "plt.plot(x, y_pred, '-r')\n",
    "plt.scatter(x,y)"
   ]
  },
  {
   "cell_type": "code",
   "execution_count": null,
   "metadata": {},
   "outputs": [],
   "source": []
  }
 ],
 "metadata": {
  "kernelspec": {
   "display_name": "Python 3",
   "language": "python",
   "name": "python3"
  },
  "language_info": {
   "codemirror_mode": {
    "name": "ipython",
    "version": 3
   },
   "file_extension": ".py",
   "mimetype": "text/x-python",
   "name": "python",
   "nbconvert_exporter": "python",
   "pygments_lexer": "ipython3",
   "version": "3.7.4"
  }
 },
 "nbformat": 4,
 "nbformat_minor": 2
}
