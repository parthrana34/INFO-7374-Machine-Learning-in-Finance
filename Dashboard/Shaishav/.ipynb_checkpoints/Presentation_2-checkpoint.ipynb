{
 "cells": [
  {
   "cell_type": "markdown",
   "metadata": {},
   "source": [
    "## OLS Model"
   ]
  },
  {
   "cell_type": "code",
   "execution_count": 1,
   "metadata": {},
   "outputs": [],
   "source": [
    "## Laading libraries\n",
    "from scipy import stats\n",
    "import numpy as np\n",
    "import matplotlib.pyplot as plt\n",
    "from math import sqrt\n",
    "import pandas as pd\n",
    "import seaborn as sns\n",
    "from sklearn.model_selection import train_test_split\n",
    "import matplotlib.patches as mpatches\n",
    "from scipy.optimize import minimize\n",
    "from pandas_datareader import DataReader\n",
    "from datetime import datetime\n",
    "from sklearn.metrics import mean_squared_error\n",
    "%matplotlib inline"
   ]
  },
  {
   "cell_type": "code",
   "execution_count": 2,
   "metadata": {},
   "outputs": [],
   "source": [
    "# # 2019 stock data for P&G from Yahoo:\n",
    "# PG = DataReader('PG',  'yahoo', datetime(2019,1,1), datetime(2019,12,31));\n",
    "\n",
    "# # # Avergae of opening and closing:\n",
    "# PG[\"Average\"] = (PG[\"Open\"] + 2*PG[\"High\"] + PG[\"Close\"])/4\n",
    "# PG[\"Days\"] = range(1,PG.shape[0]+1)\n",
    "\n",
    "# # Required Dataset: \n",
    "# print(PG.shape)\n",
    "# print(PG.head())"
   ]
  },
  {
   "cell_type": "code",
   "execution_count": 3,
   "metadata": {},
   "outputs": [],
   "source": [
    "# loading dataset\n",
    "def getData(strt_date, end_date):\n",
    "    FF = pd.read_csv(\"C:\\\\Users\\\\sshai\\\\Desktop\\\\Northeastern University\\\\INFO 7374 ML In Finance\\\\INFO-7374-Machine-Learning-in-Finance\\\\Dashboard\\\\Shaishav\\\\fulldata.csv\")\n",
    "    # Date format change\n",
    "    FF[\"Date\"] = pd.to_datetime(FF[\"Date\"])\n",
    "    # Data selection\n",
    "    df = FF[(FF[\"Date\"] >= strt_date) & (FF[\"Date\"] <= end_date)]\n",
    "    # Reset Index\n",
    "    df = df.reset_index()\n",
    "    df = df.drop([\"index\"], axis =1)\n",
    "    # Average Column and no. of days calculations\n",
    "    df[\"Average\"] = (FF[\"Open\"] + 2*FF[\"High\"] + FF[\"Close\"])/4\n",
    "    df[\"Days\"] = range(1,df.shape[0]+1)\n",
    "    df[\"beta_0\"] = 1\n",
    "    return df"
   ]
  },
  {
   "cell_type": "code",
   "execution_count": 4,
   "metadata": {},
   "outputs": [],
   "source": [
    "def variable_correlation(df):\n",
    "    fig, ax = plt.subplots(figsize=(20,20))\n",
    "    sns.heatmap(df.corr(), center=0, cmap=\"BrBG\", annot=True)"
   ]
  },
  {
   "cell_type": "code",
   "execution_count": 5,
   "metadata": {},
   "outputs": [],
   "source": [
    "def beta_values(df, colm):\n",
    "    x_t = np.array(df[colm].shift(periods=-1).dropna())\n",
    "    y_t = np.array(df[[\"Open\"]].shift(periods=1).dropna())\n",
    "    b_t = np.matmul(np.matmul(np.linalg.inv(np.matmul(x_t.T,x_t)),x_t.T),y_t)\n",
    "    b_t = b_t.tolist()\n",
    "    b_t = [item for sublist in b_t for item in sublist]\n",
    "    return b_t"
   ]
  },
  {
   "cell_type": "code",
   "execution_count": 6,
   "metadata": {},
   "outputs": [],
   "source": [
    "def beta_coff(beta, df, colm, error):\n",
    "    df_beta = pd.DataFrame(list(zip(colm, beta)), columns = [\"Variables\",\"Beta_Coeff\"])\n",
    "    n = len(df[\"Open\"][:-1])\n",
    "    SE_Coff = list()\n",
    "    t = list()\n",
    "    for i in colm:\n",
    "        SSE = residual_variance(error)\n",
    "        x_act = df[i][:-1]\n",
    "        n1 = len(df[i][:-1])\n",
    "        x_mean = sum(df[i])/n1\n",
    "        res = list(x_act - x_mean)\n",
    "        X = sum(map(lambda i : i * i, res))\n",
    "        SE = sqrt(SSE/(n-2))/sqrt(X)\n",
    "        SE_Coff.append(SE)\n",
    "    df_beta[\"SE_Coff\"] = SE_Coff\n",
    "    df_beta[\"T-Value\"] = df_beta['Beta_Coeff']/df_beta[\"SE_Coff\"]\n",
    "    df_beta[\"P-Value\"] = stats.t.sf(abs(df_beta[\"T-Value\"]),n-2)*2\n",
    "    df_beta = df_beta.sort_values(by=['Beta_Coeff'], ascending=False) \n",
    "    return df_beta"
   ]
  },
  {
   "cell_type": "code",
   "execution_count": 14,
   "metadata": {},
   "outputs": [],
   "source": [
    "\n",
    "def predictions(beta, df, colm):\n",
    "    x_t = np.array(df[colm].shift(periods=-1).dropna())\n",
    "    b_t = beta\n",
    "    y_pred = np.matmul(x_t,b_t)\n",
    "    return y_pred"
   ]
  },
  {
   "cell_type": "code",
   "execution_count": 7,
   "metadata": {},
   "outputs": [],
   "source": [
    "def error_cal(ypred,df):\n",
    "    y_pred = ypred\n",
    "    y_act = df['Open'][:-1]\n",
    "    error = list(y_act - y_pred)\n",
    "#     abc = pd.DataFrame(list(zip(y_pred,y_act,error)))\n",
    "#     print(abc)\n",
    "    return error"
   ]
  },
  {
   "cell_type": "code",
   "execution_count": 8,
   "metadata": {},
   "outputs": [],
   "source": [
    "def residual_variance(error):\n",
    "    SSE = sum(map(lambda i : i * i, error)) \n",
    "    return SSE    "
   ]
  },
  {
   "cell_type": "code",
   "execution_count": 9,
   "metadata": {},
   "outputs": [],
   "source": [
    "def totalError_Square(df):\n",
    "    y_act = df['Open'][:-1]\n",
    "    n = len(df[\"Open\"][:-1])\n",
    "    y_mean = sum(df[\"Open\"])/n\n",
    "    res = list(y_act - y_mean)\n",
    "    SST = sum(map(lambda i : i * i, res))\n",
    "    return SST"
   ]
  },
  {
   "cell_type": "code",
   "execution_count": 10,
   "metadata": {},
   "outputs": [],
   "source": [
    "def R_squared(error, df):\n",
    "    SSE = residual_variance(error)\n",
    "    SST = totalError_Square(df)\n",
    "    r2 = 1 - float(SSE/SST)\n",
    "    return r2 "
   ]
  },
  {
   "cell_type": "code",
   "execution_count": 11,
   "metadata": {},
   "outputs": [],
   "source": [
    "def rmse_value(error):\n",
    "    SSE = residual_variance(error)\n",
    "    n = len(error)\n",
    "    rmse = sqrt(SSE/n)\n",
    "    return rmse"
   ]
  },
  {
   "cell_type": "code",
   "execution_count": 12,
   "metadata": {},
   "outputs": [],
   "source": [
    "def f_value(ypred, df, colm, error):\n",
    "    k = len(colm) \n",
    "    y_act = df['Open'][:-1]\n",
    "    n = len(df[\"Open\"][:-1])\n",
    "    y_mean = sum(df[\"Open\"])/n\n",
    "    y_pred = ypred\n",
    "    res = list(y_pred - y_mean)\n",
    "    SSR = sum(map(lambda i : i * i, res))\n",
    "    SSE = residual_variance(error)\n",
    "    F = (SSR/k)/(SSE/(n-k-1))\n",
    "    return F"
   ]
  },
  {
   "cell_type": "code",
   "execution_count": 15,
   "metadata": {},
   "outputs": [
    {
     "name": "stdout",
     "output_type": "stream",
     "text": [
      "  Variables    Beta_Coeff       SE_Coff    T-Value        P-Value\n",
      "0    beta_0  9.527950e+01  2.115825e+01   4.503185   1.260922e-05\n",
      "6       SMB  5.428704e-01  2.597811e-01   2.089723   3.817653e-02\n",
      "2       RMW  4.900943e-01  3.808667e-01   1.286787   1.999710e-01\n",
      "3      Days  1.537298e-01  2.627548e-03  58.506948  2.945158e-112\n",
      "8       HML  5.429917e-02  2.266595e-01   0.239563   8.109666e-01\n",
      "5    Volume  1.574953e-09  3.876304e-08   0.040630   9.676398e-01\n",
      "4   Average -4.940634e-02  1.356236e-02  -3.642902   3.606674e-04\n",
      "7    Mkt-RF -4.515815e-01  1.388963e-01  -3.251214   1.393205e-03\n",
      "9       CMA -1.133503e+00  4.174260e-01  -2.715458   7.323133e-03\n",
      "1        RF -1.154689e+02  1.368527e+02  -0.843746   4.000330e-01\n",
      "R_2 value:  0.9591578294704839\n",
      "rmse value:  1.6274407004260094\n",
      "F-Value:  366.3581525112093\n"
     ]
    }
   ],
   "source": [
    "## User input, can be changed\n",
    "strt_date = \"2019-01-01\"\n",
    "end_date = \"2019-08-31\"\n",
    "\n",
    "## final dataset\n",
    "df_main = getData(strt_date, end_date)\n",
    "# print(df_main.head())\n",
    "# print(df_main.shape)\n",
    "# plt.scatter(df_main[\"Days\"],df_main[\"Open\"])\n",
    "\n",
    "## EDA\n",
    "# variable_correlation(df_main)\n",
    "\n",
    "\n",
    "## Variable selection for OLS:\n",
    "colm = ['beta_0','RF', 'RMW', 'Days', \"Average\",\"Volume\",\"SMB\",\"Mkt-RF\",\"HML\",\"CMA\"]\n",
    "# colm = ['beta_0', 'Average','CMA', \"HML\", \"Days\"]\n",
    "\n",
    "## Calculating beta_values:\n",
    "b_t = beta_values(df_main, colm)\n",
    "\n",
    "# Calculating Error using beta values found\n",
    "y_pred = predictions(b_t, df_main, colm)\n",
    "e = error_cal(y_pred, df_main)\n",
    "\n",
    "# Statistics on Beta-coefficient:\n",
    "df_beta = beta_coff(b_t, df_main, colm, e)\n",
    "print(df_beta)\n",
    "\n",
    "# Calculating accuracy estimators:\n",
    "r2 = R_squared(e, df_main)\n",
    "rmse = rmse_value(e)\n",
    "fvalue = f_value(y_pred, df_main, colm, e)\n",
    "print(\"R_2 value: \",r2)\n",
    "print(\"rmse value: \",rmse)\n",
    "print(\"F-Value: \",fvalue)"
   ]
  },
  {
   "cell_type": "code",
   "execution_count": 16,
   "metadata": {},
   "outputs": [
    {
     "data": {
      "text/plain": [
       "<matplotlib.collections.PathCollection at 0x1cb8ef10fc8>"
      ]
     },
     "execution_count": 16,
     "metadata": {},
     "output_type": "execute_result"
    },
    {
     "data": {
      "image/png": "[encoded data removed]",
      "text/plain": [
       "<Figure size 432x288 with 1 Axes>"
      ]
     },
     "metadata": {
      "needs_background": "light"
     },
     "output_type": "display_data"
    }
   ],
   "source": [
    "# PLotting graph of y_pred vs y_act:\n",
    "x = df_main[\"Days\"][1:]\n",
    "y = df_main[\"Open\"][:-1]\n",
    "plt.plot(x, y_pred, '-r')\n",
    "plt.scatter(x,y)"
   ]
  },
  {
   "cell_type": "code",
   "execution_count": null,
   "metadata": {},
   "outputs": [],
   "source": []
  },
  {
   "cell_type": "code",
   "execution_count": null,
   "metadata": {},
   "outputs": [],
   "source": []
  },
  {
   "cell_type": "code",
   "execution_count": null,
   "metadata": {},
   "outputs": [],
   "source": []
  },
  {
   "cell_type": "code",
   "execution_count": null,
   "metadata": {},
   "outputs": [],
   "source": []
  },
  {
   "cell_type": "markdown",
   "metadata": {},
   "source": [
    "### Still working"
   ]
  },
  {
   "cell_type": "code",
   "execution_count": null,
   "metadata": {},
   "outputs": [],
   "source": [
    "## Calculating values for next 5 months based on Beta values obtained:\n",
    "## User input, can be changed\n",
    "strt_date = \"2018-08-01\"\n",
    "end_date = \"2018-08-31\"\n",
    "df = getData(strt_date, end_date)\n",
    "\n",
    "# print(df_main.head())\n",
    "print(df.shape)\n",
    "colm = ['beta_0','RF', 'RMW', 'Days', \"Average\",\"Volume\",\"SMB\",\"Mkt-RF\",\"HML\",\"CMA\"]\n",
    "colm = ['beta_0', 'Average','CMA', \"HML\", \"Days\"]\n",
    "print(b_t)\n",
    "\n",
    "y_pred = predictions(b_t, df, colm)\n",
    "e = error_cal(y_pred, df)\n",
    "\n",
    "# Calculating accuracy estimators:\n",
    "r2 = R_squared(e, df)\n",
    "rmse = rmse_value(e)\n",
    "print(\"R_2 value: \",r2)\n",
    "print(\"rmse value: \",rmse)"
   ]
  },
  {
   "cell_type": "code",
   "execution_count": null,
   "metadata": {},
   "outputs": [],
   "source": [
    "# PLotting graph of y_pred vs y_act:\n",
    "x = df[\"Days\"][1:]\n",
    "y = df[\"Open\"][:-1]\n",
    "plt.plot(x, y_pred, '-r')\n",
    "plt.scatter(x,y)"
   ]
  },
  {
   "cell_type": "code",
   "execution_count": null,
   "metadata": {},
   "outputs": [],
   "source": []
  }
 ],
 "metadata": {
  "kernelspec": {
   "display_name": "Python 3",
   "language": "python",
   "name": "python3"
  },
  "language_info": {
   "codemirror_mode": {
    "name": "ipython",
    "version": 3
   },
   "file_extension": ".py",
   "mimetype": "text/x-python",
   "name": "python",
   "nbconvert_exporter": "python",
   "pygments_lexer": "ipython3",
   "version": "3.7.4"
  }
 },
 "nbformat": 4,
 "nbformat_minor": 2
}
