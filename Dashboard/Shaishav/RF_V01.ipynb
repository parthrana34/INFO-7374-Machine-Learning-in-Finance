{
 "cells": [
  {
   "cell_type": "markdown",
   "metadata": {},
   "source": [
    "## Decision Tree Algorithm for Regressor"
   ]
  },
  {
   "cell_type": "markdown",
   "metadata": {},
   "source": [
    "### Loading Libraries"
   ]
  },
  {
   "cell_type": "code",
   "execution_count": 1,
   "metadata": {},
   "outputs": [],
   "source": [
    "import numpy as np\n",
    "import pandas as pd\n",
    "import matplotlib.pyplot as plt\n",
    "import seaborn as sns\n",
    "import random\n",
    "from pprint import pprint"
   ]
  },
  {
   "cell_type": "markdown",
   "metadata": {},
   "source": [
    "### Loading Data Set"
   ]
  },
  {
   "cell_type": "code",
   "execution_count": 48,
   "metadata": {},
   "outputs": [],
   "source": [
    "# loading dataset\n",
    "def getData(strt_date = \"2019-01-01\", end_date = \"2019-12-31\"):\n",
    "    \n",
    "    FF = pd.read_csv(\"C:\\\\Users\\\\sshai\\\\Desktop\\\\Northeastern University\\\\INFO 7374 ML In Finance\\\\INFO-7374-Machine-Learning-in-Finance\\\\Dashboard\\\\Shaishav\\\\fulldata.csv\")\n",
    "    # Date format change\n",
    "    FF[\"Date\"] = pd.to_datetime(FF[\"Date\"])\n",
    "    # Data selection\n",
    "    df = FF[(FF[\"Date\"] >= strt_date) & (FF[\"Date\"] <= end_date)]\n",
    "    # Reset Index\n",
    "    df = df.reset_index()\n",
    "    df = df.drop([\"index\"], axis =1)\n",
    "    # Average Column and no. of days calculations\n",
    "    df[\"Average\"] = (FF[\"Open\"] + 2*FF[\"High\"] + FF[\"Close\"])/4\n",
    "    df[\"Days\"] = range(1,df.shape[0]+1)\n",
    "    df[\"delta_Open\"] = (df.Open - df.Open.shift(periods=1))\n",
    "#     df[\"delta_Close\"] = (df.Close - df.Close.shift(periods=1))\n",
    "#     df[\"delta_RMW\"] = (df.RMW - df.RMW.shift(periods=1))\n",
    "#     df[\"delta_SMB\"] = (df.SMB - df.SMB.shift(periods=1))\n",
    "#     df[\"delta_MktRF\"] = (df[\"Mkt-RF\"] - df[\"Mkt-RF\"].shift(periods=1))\n",
    "#     df[\"delta_HML\"] = (df.HML - df.HML.shift(periods=1))\n",
    "#     df[\"delta_CMA\"] = (df.CMA - df.CMA.shift(periods=1))\n",
    "#     df[\"delta_Average\"] = (df.Average - df.Average.shift(periods=1))\n",
    "    df = df.dropna().reset_index(drop=True)\n",
    "    \n",
    "    df[\"label\"] = df.delta_Open\n",
    "    df = df.drop(\"delta_Open\", axis=1)\n",
    "    \n",
    "    return df"
   ]
  },
  {
   "cell_type": "code",
   "execution_count": 50,
   "metadata": {},
   "outputs": [
    {
     "data": {
      "text/plain": [
       "Index(['Date', 'Days', 'RF', 'RMW', 'Volume', 'SMB', 'Mkt-RF', 'HML', 'CMA',\n",
       "       'Average', 'Close', 'Open', 'label'],\n",
       "      dtype='object')"
      ]
     },
     "execution_count": 50,
     "metadata": {},
     "output_type": "execute_result"
    }
   ],
   "source": [
    "## One year data\n",
    "df = getData()\n",
    "\n",
    "## Removing correlated columns\n",
    "df = df[[\"Date\",\"Days\",\"RF\",\"RMW\",\"Volume\",\"SMB\",\"Mkt-RF\",\"HML\",\"CMA\",\"Average\",\"Close\",\"Open\",\"label\"]]\n",
    "df.columns"
   ]
  },
  {
   "cell_type": "markdown",
   "metadata": {},
   "source": [
    "### Data Modification"
   ]
  },
  {
   "cell_type": "code",
   "execution_count": 51,
   "metadata": {},
   "outputs": [
    {
     "data": {
      "text/html": [
       "<div>\n",
       "<style scoped>\n",
       "    .dataframe tbody tr th:only-of-type {\n",
       "        vertical-align: middle;\n",
       "    }\n",
       "\n",
       "    .dataframe tbody tr th {\n",
       "        vertical-align: top;\n",
       "    }\n",
       "\n",
       "    .dataframe thead th {\n",
       "        text-align: right;\n",
       "    }\n",
       "</style>\n",
       "<table border=\"1\" class=\"dataframe\">\n",
       "  <thead>\n",
       "    <tr style=\"text-align: right;\">\n",
       "      <th></th>\n",
       "      <th>Date</th>\n",
       "      <th>Days</th>\n",
       "      <th>RF</th>\n",
       "      <th>RMW</th>\n",
       "      <th>Volume</th>\n",
       "      <th>SMB</th>\n",
       "      <th>Mkt-RF</th>\n",
       "      <th>HML</th>\n",
       "      <th>CMA</th>\n",
       "      <th>Average</th>\n",
       "      <th>Close</th>\n",
       "      <th>Open</th>\n",
       "      <th>label</th>\n",
       "    </tr>\n",
       "  </thead>\n",
       "  <tbody>\n",
       "    <tr>\n",
       "      <td>0</td>\n",
       "      <td>2019-01-03</td>\n",
       "      <td>2.0</td>\n",
       "      <td>0.010</td>\n",
       "      <td>-0.25</td>\n",
       "      <td>9820200.0</td>\n",
       "      <td>0.52</td>\n",
       "      <td>-2.45</td>\n",
       "      <td>1.23</td>\n",
       "      <td>0.91</td>\n",
       "      <td>53.531250</td>\n",
       "      <td>90.639999</td>\n",
       "      <td>90.940002</td>\n",
       "      <td>-0.100006</td>\n",
       "    </tr>\n",
       "    <tr>\n",
       "      <td>1</td>\n",
       "      <td>2019-01-04</td>\n",
       "      <td>3.0</td>\n",
       "      <td>0.010</td>\n",
       "      <td>-0.09</td>\n",
       "      <td>10565700.0</td>\n",
       "      <td>0.39</td>\n",
       "      <td>3.55</td>\n",
       "      <td>-0.74</td>\n",
       "      <td>-0.58</td>\n",
       "      <td>52.343750</td>\n",
       "      <td>92.489998</td>\n",
       "      <td>90.839996</td>\n",
       "      <td>1.070007</td>\n",
       "    </tr>\n",
       "    <tr>\n",
       "      <td>2</td>\n",
       "      <td>2019-01-07</td>\n",
       "      <td>4.0</td>\n",
       "      <td>0.010</td>\n",
       "      <td>-0.70</td>\n",
       "      <td>9012500.0</td>\n",
       "      <td>0.82</td>\n",
       "      <td>0.94</td>\n",
       "      <td>-0.67</td>\n",
       "      <td>-0.41</td>\n",
       "      <td>53.984375</td>\n",
       "      <td>92.120003</td>\n",
       "      <td>91.910004</td>\n",
       "      <td>0.789993</td>\n",
       "    </tr>\n",
       "    <tr>\n",
       "      <td>3</td>\n",
       "      <td>2019-01-08</td>\n",
       "      <td>5.0</td>\n",
       "      <td>0.010</td>\n",
       "      <td>0.35</td>\n",
       "      <td>9551300.0</td>\n",
       "      <td>0.44</td>\n",
       "      <td>1.01</td>\n",
       "      <td>-0.53</td>\n",
       "      <td>-0.09</td>\n",
       "      <td>57.507812</td>\n",
       "      <td>92.459999</td>\n",
       "      <td>92.699997</td>\n",
       "      <td>-0.009995</td>\n",
       "    </tr>\n",
       "    <tr>\n",
       "      <td>4</td>\n",
       "      <td>2019-01-09</td>\n",
       "      <td>6.0</td>\n",
       "      <td>0.010</td>\n",
       "      <td>0.09</td>\n",
       "      <td>15015600.0</td>\n",
       "      <td>0.51</td>\n",
       "      <td>0.56</td>\n",
       "      <td>-0.04</td>\n",
       "      <td>-0.18</td>\n",
       "      <td>58.296875</td>\n",
       "      <td>90.949997</td>\n",
       "      <td>92.690002</td>\n",
       "      <td>-1.800003</td>\n",
       "    </tr>\n",
       "    <tr>\n",
       "      <td>...</td>\n",
       "      <td>...</td>\n",
       "      <td>...</td>\n",
       "      <td>...</td>\n",
       "      <td>...</td>\n",
       "      <td>...</td>\n",
       "      <td>...</td>\n",
       "      <td>...</td>\n",
       "      <td>...</td>\n",
       "      <td>...</td>\n",
       "      <td>...</td>\n",
       "      <td>...</td>\n",
       "      <td>...</td>\n",
       "      <td>...</td>\n",
       "    </tr>\n",
       "    <tr>\n",
       "      <td>245</td>\n",
       "      <td>2019-12-23</td>\n",
       "      <td>247.0</td>\n",
       "      <td>0.007</td>\n",
       "      <td>-0.12</td>\n",
       "      <td>6619500.0</td>\n",
       "      <td>0.16</td>\n",
       "      <td>0.10</td>\n",
       "      <td>-0.28</td>\n",
       "      <td>0.31</td>\n",
       "      <td>37.101562</td>\n",
       "      <td>124.900001</td>\n",
       "      <td>125.519997</td>\n",
       "      <td>-0.729996</td>\n",
       "    </tr>\n",
       "    <tr>\n",
       "      <td>246</td>\n",
       "      <td>2019-12-24</td>\n",
       "      <td>248.0</td>\n",
       "      <td>0.007</td>\n",
       "      <td>-0.28</td>\n",
       "      <td>2022100.0</td>\n",
       "      <td>0.36</td>\n",
       "      <td>0.01</td>\n",
       "      <td>-0.07</td>\n",
       "      <td>0.02</td>\n",
       "      <td>37.156250</td>\n",
       "      <td>125.220001</td>\n",
       "      <td>124.790001</td>\n",
       "      <td>0.309998</td>\n",
       "    </tr>\n",
       "    <tr>\n",
       "      <td>247</td>\n",
       "      <td>2019-12-26</td>\n",
       "      <td>249.0</td>\n",
       "      <td>0.007</td>\n",
       "      <td>0.23</td>\n",
       "      <td>4760400.0</td>\n",
       "      <td>-0.56</td>\n",
       "      <td>0.49</td>\n",
       "      <td>0.00</td>\n",
       "      <td>-0.19</td>\n",
       "      <td>37.203125</td>\n",
       "      <td>125.220001</td>\n",
       "      <td>125.099999</td>\n",
       "      <td>0.459999</td>\n",
       "    </tr>\n",
       "    <tr>\n",
       "      <td>248</td>\n",
       "      <td>2019-12-27</td>\n",
       "      <td>250.0</td>\n",
       "      <td>0.007</td>\n",
       "      <td>0.24</td>\n",
       "      <td>5192000.0</td>\n",
       "      <td>-0.54</td>\n",
       "      <td>-0.09</td>\n",
       "      <td>-0.07</td>\n",
       "      <td>0.16</td>\n",
       "      <td>38.687500</td>\n",
       "      <td>126.089996</td>\n",
       "      <td>125.559998</td>\n",
       "      <td>0.200004</td>\n",
       "    </tr>\n",
       "    <tr>\n",
       "      <td>249</td>\n",
       "      <td>2019-12-30</td>\n",
       "      <td>251.0</td>\n",
       "      <td>0.007</td>\n",
       "      <td>0.15</td>\n",
       "      <td>3884300.0</td>\n",
       "      <td>0.27</td>\n",
       "      <td>-0.57</td>\n",
       "      <td>0.58</td>\n",
       "      <td>0.45</td>\n",
       "      <td>38.687500</td>\n",
       "      <td>124.470001</td>\n",
       "      <td>125.760002</td>\n",
       "      <td>-1.330002</td>\n",
       "    </tr>\n",
       "  </tbody>\n",
       "</table>\n",
       "<p>250 rows × 13 columns</p>\n",
       "</div>"
      ],
      "text/plain": [
       "          Date   Days     RF   RMW      Volume   SMB  Mkt-RF   HML   CMA  \\\n",
       "0   2019-01-03    2.0  0.010 -0.25   9820200.0  0.52   -2.45  1.23  0.91   \n",
       "1   2019-01-04    3.0  0.010 -0.09  10565700.0  0.39    3.55 -0.74 -0.58   \n",
       "2   2019-01-07    4.0  0.010 -0.70   9012500.0  0.82    0.94 -0.67 -0.41   \n",
       "3   2019-01-08    5.0  0.010  0.35   9551300.0  0.44    1.01 -0.53 -0.09   \n",
       "4   2019-01-09    6.0  0.010  0.09  15015600.0  0.51    0.56 -0.04 -0.18   \n",
       "..         ...    ...    ...   ...         ...   ...     ...   ...   ...   \n",
       "245 2019-12-23  247.0  0.007 -0.12   6619500.0  0.16    0.10 -0.28  0.31   \n",
       "246 2019-12-24  248.0  0.007 -0.28   2022100.0  0.36    0.01 -0.07  0.02   \n",
       "247 2019-12-26  249.0  0.007  0.23   4760400.0 -0.56    0.49  0.00 -0.19   \n",
       "248 2019-12-27  250.0  0.007  0.24   5192000.0 -0.54   -0.09 -0.07  0.16   \n",
       "249 2019-12-30  251.0  0.007  0.15   3884300.0  0.27   -0.57  0.58  0.45   \n",
       "\n",
       "       Average       Close        Open     label  \n",
       "0    53.531250   90.639999   90.940002 -0.100006  \n",
       "1    52.343750   92.489998   90.839996  1.070007  \n",
       "2    53.984375   92.120003   91.910004  0.789993  \n",
       "3    57.507812   92.459999   92.699997 -0.009995  \n",
       "4    58.296875   90.949997   92.690002 -1.800003  \n",
       "..         ...         ...         ...       ...  \n",
       "245  37.101562  124.900001  125.519997 -0.729996  \n",
       "246  37.156250  125.220001  124.790001  0.309998  \n",
       "247  37.203125  125.220001  125.099999  0.459999  \n",
       "248  38.687500  126.089996  125.559998  0.200004  \n",
       "249  38.687500  124.470001  125.760002 -1.330002  \n",
       "\n",
       "[250 rows x 13 columns]"
      ]
     },
     "execution_count": 51,
     "metadata": {},
     "output_type": "execute_result"
    }
   ],
   "source": [
    "df_x = df.drop(\"label\", axis =1).shift(periods=1).dropna().reset_index(drop=True)\n",
    "df_y = df[[\"label\"]].shift(periods=-1).dropna().reset_index(drop=True)\n",
    "modified_df = pd.concat([df_x,df_y], axis =1)\n",
    "\n",
    "modified_df"
   ]
  },
  {
   "cell_type": "markdown",
   "metadata": {},
   "source": [
    "### Test/ Train Data set"
   ]
  },
  {
   "cell_type": "code",
   "execution_count": 62,
   "metadata": {},
   "outputs": [],
   "source": [
    "## Train and Test Data\n",
    "train_start_date = \"2019-01-01\"\n",
    "train_end_date =  \"2019-10-31\"\n",
    "test_start_date = \"2019-11-01\"\n",
    "test_end_date = \"2019-12-31\"\n",
    "df_train = df[(df[\"Date\"] >= train_start_date) & (df[\"Date\"] <= train_end_date)]\n",
    "df_test = df[(df[\"Date\"] >= test_start_date) & (df[\"Date\"] <= test_end_date)]\n",
    "df_train = df_train.drop([\"Date\",\"Days\"], axis=1)\n",
    "df_test = df_test.drop([\"Date\",\"Days\"], axis=1)"
   ]
  },
  {
   "cell_type": "code",
   "execution_count": 63,
   "metadata": {},
   "outputs": [
    {
     "data": {
      "text/html": [
       "<div>\n",
       "<style scoped>\n",
       "    .dataframe tbody tr th:only-of-type {\n",
       "        vertical-align: middle;\n",
       "    }\n",
       "\n",
       "    .dataframe tbody tr th {\n",
       "        vertical-align: top;\n",
       "    }\n",
       "\n",
       "    .dataframe thead th {\n",
       "        text-align: right;\n",
       "    }\n",
       "</style>\n",
       "<table border=\"1\" class=\"dataframe\">\n",
       "  <thead>\n",
       "    <tr style=\"text-align: right;\">\n",
       "      <th></th>\n",
       "      <th>RF</th>\n",
       "      <th>RMW</th>\n",
       "      <th>Volume</th>\n",
       "      <th>SMB</th>\n",
       "      <th>Mkt-RF</th>\n",
       "      <th>HML</th>\n",
       "      <th>CMA</th>\n",
       "      <th>Average</th>\n",
       "      <th>Close</th>\n",
       "      <th>Open</th>\n",
       "      <th>label</th>\n",
       "    </tr>\n",
       "  </thead>\n",
       "  <tbody>\n",
       "    <tr>\n",
       "      <td>0</td>\n",
       "      <td>0.01</td>\n",
       "      <td>-0.25</td>\n",
       "      <td>9820200</td>\n",
       "      <td>0.52</td>\n",
       "      <td>-2.45</td>\n",
       "      <td>1.23</td>\n",
       "      <td>0.91</td>\n",
       "      <td>53.531250</td>\n",
       "      <td>90.639999</td>\n",
       "      <td>90.940002</td>\n",
       "      <td>-0.089996</td>\n",
       "    </tr>\n",
       "    <tr>\n",
       "      <td>1</td>\n",
       "      <td>0.01</td>\n",
       "      <td>-0.09</td>\n",
       "      <td>10565700</td>\n",
       "      <td>0.39</td>\n",
       "      <td>3.55</td>\n",
       "      <td>-0.74</td>\n",
       "      <td>-0.58</td>\n",
       "      <td>52.343750</td>\n",
       "      <td>92.489998</td>\n",
       "      <td>90.839996</td>\n",
       "      <td>-0.100006</td>\n",
       "    </tr>\n",
       "    <tr>\n",
       "      <td>2</td>\n",
       "      <td>0.01</td>\n",
       "      <td>-0.70</td>\n",
       "      <td>9012500</td>\n",
       "      <td>0.82</td>\n",
       "      <td>0.94</td>\n",
       "      <td>-0.67</td>\n",
       "      <td>-0.41</td>\n",
       "      <td>53.984375</td>\n",
       "      <td>92.120003</td>\n",
       "      <td>91.910004</td>\n",
       "      <td>1.070007</td>\n",
       "    </tr>\n",
       "    <tr>\n",
       "      <td>3</td>\n",
       "      <td>0.01</td>\n",
       "      <td>0.35</td>\n",
       "      <td>9551300</td>\n",
       "      <td>0.44</td>\n",
       "      <td>1.01</td>\n",
       "      <td>-0.53</td>\n",
       "      <td>-0.09</td>\n",
       "      <td>57.507812</td>\n",
       "      <td>92.459999</td>\n",
       "      <td>92.699997</td>\n",
       "      <td>0.789993</td>\n",
       "    </tr>\n",
       "    <tr>\n",
       "      <td>4</td>\n",
       "      <td>0.01</td>\n",
       "      <td>0.09</td>\n",
       "      <td>15015600</td>\n",
       "      <td>0.51</td>\n",
       "      <td>0.56</td>\n",
       "      <td>-0.04</td>\n",
       "      <td>-0.18</td>\n",
       "      <td>58.296875</td>\n",
       "      <td>90.949997</td>\n",
       "      <td>92.690002</td>\n",
       "      <td>-0.009995</td>\n",
       "    </tr>\n",
       "  </tbody>\n",
       "</table>\n",
       "</div>"
      ],
      "text/plain": [
       "     RF   RMW    Volume   SMB  Mkt-RF   HML   CMA    Average      Close  \\\n",
       "0  0.01 -0.25   9820200  0.52   -2.45  1.23  0.91  53.531250  90.639999   \n",
       "1  0.01 -0.09  10565700  0.39    3.55 -0.74 -0.58  52.343750  92.489998   \n",
       "2  0.01 -0.70   9012500  0.82    0.94 -0.67 -0.41  53.984375  92.120003   \n",
       "3  0.01  0.35   9551300  0.44    1.01 -0.53 -0.09  57.507812  92.459999   \n",
       "4  0.01  0.09  15015600  0.51    0.56 -0.04 -0.18  58.296875  90.949997   \n",
       "\n",
       "        Open     label  \n",
       "0  90.940002 -0.089996  \n",
       "1  90.839996 -0.100006  \n",
       "2  91.910004  1.070007  \n",
       "3  92.699997  0.789993  \n",
       "4  92.690002 -0.009995  "
      ]
     },
     "execution_count": 63,
     "metadata": {},
     "output_type": "execute_result"
    }
   ],
   "source": [
    "df_train.head()"
   ]
  },
  {
   "cell_type": "code",
   "execution_count": 64,
   "metadata": {},
   "outputs": [
    {
     "data": {
      "text/html": [
       "<div>\n",
       "<style scoped>\n",
       "    .dataframe tbody tr th:only-of-type {\n",
       "        vertical-align: middle;\n",
       "    }\n",
       "\n",
       "    .dataframe tbody tr th {\n",
       "        vertical-align: top;\n",
       "    }\n",
       "\n",
       "    .dataframe thead th {\n",
       "        text-align: right;\n",
       "    }\n",
       "</style>\n",
       "<table border=\"1\" class=\"dataframe\">\n",
       "  <thead>\n",
       "    <tr style=\"text-align: right;\">\n",
       "      <th></th>\n",
       "      <th>RF</th>\n",
       "      <th>RMW</th>\n",
       "      <th>Volume</th>\n",
       "      <th>SMB</th>\n",
       "      <th>Mkt-RF</th>\n",
       "      <th>HML</th>\n",
       "      <th>CMA</th>\n",
       "      <th>Average</th>\n",
       "      <th>Close</th>\n",
       "      <th>Open</th>\n",
       "      <th>label</th>\n",
       "    </tr>\n",
       "  </thead>\n",
       "  <tbody>\n",
       "    <tr>\n",
       "      <td>210</td>\n",
       "      <td>0.006</td>\n",
       "      <td>-0.21</td>\n",
       "      <td>6010100</td>\n",
       "      <td>0.60</td>\n",
       "      <td>1.08</td>\n",
       "      <td>0.85</td>\n",
       "      <td>0.11</td>\n",
       "      <td>35.218750</td>\n",
       "      <td>123.870003</td>\n",
       "      <td>124.830002</td>\n",
       "      <td>0.040001</td>\n",
       "    </tr>\n",
       "    <tr>\n",
       "      <td>211</td>\n",
       "      <td>0.006</td>\n",
       "      <td>0.62</td>\n",
       "      <td>10351400</td>\n",
       "      <td>0.34</td>\n",
       "      <td>0.40</td>\n",
       "      <td>1.46</td>\n",
       "      <td>0.11</td>\n",
       "      <td>34.429688</td>\n",
       "      <td>119.070000</td>\n",
       "      <td>123.919998</td>\n",
       "      <td>-0.910004</td>\n",
       "    </tr>\n",
       "    <tr>\n",
       "      <td>212</td>\n",
       "      <td>0.006</td>\n",
       "      <td>0.00</td>\n",
       "      <td>9239600</td>\n",
       "      <td>0.40</td>\n",
       "      <td>-0.03</td>\n",
       "      <td>0.48</td>\n",
       "      <td>-0.01</td>\n",
       "      <td>34.171875</td>\n",
       "      <td>118.900001</td>\n",
       "      <td>118.830002</td>\n",
       "      <td>-5.089996</td>\n",
       "    </tr>\n",
       "    <tr>\n",
       "      <td>213</td>\n",
       "      <td>0.006</td>\n",
       "      <td>-0.16</td>\n",
       "      <td>6755900</td>\n",
       "      <td>-0.79</td>\n",
       "      <td>-0.05</td>\n",
       "      <td>0.15</td>\n",
       "      <td>0.28</td>\n",
       "      <td>34.343750</td>\n",
       "      <td>120.320000</td>\n",
       "      <td>119.099999</td>\n",
       "      <td>0.269997</td>\n",
       "    </tr>\n",
       "    <tr>\n",
       "      <td>214</td>\n",
       "      <td>0.006</td>\n",
       "      <td>0.20</td>\n",
       "      <td>8909700</td>\n",
       "      <td>0.02</td>\n",
       "      <td>0.38</td>\n",
       "      <td>0.56</td>\n",
       "      <td>-0.12</td>\n",
       "      <td>34.429688</td>\n",
       "      <td>119.620003</td>\n",
       "      <td>120.339996</td>\n",
       "      <td>1.239998</td>\n",
       "    </tr>\n",
       "  </tbody>\n",
       "</table>\n",
       "</div>"
      ],
      "text/plain": [
       "        RF   RMW    Volume   SMB  Mkt-RF   HML   CMA    Average       Close  \\\n",
       "210  0.006 -0.21   6010100  0.60    1.08  0.85  0.11  35.218750  123.870003   \n",
       "211  0.006  0.62  10351400  0.34    0.40  1.46  0.11  34.429688  119.070000   \n",
       "212  0.006  0.00   9239600  0.40   -0.03  0.48 -0.01  34.171875  118.900001   \n",
       "213  0.006 -0.16   6755900 -0.79   -0.05  0.15  0.28  34.343750  120.320000   \n",
       "214  0.006  0.20   8909700  0.02    0.38  0.56 -0.12  34.429688  119.620003   \n",
       "\n",
       "           Open     label  \n",
       "210  124.830002  0.040001  \n",
       "211  123.919998 -0.910004  \n",
       "212  118.830002 -5.089996  \n",
       "213  119.099999  0.269997  \n",
       "214  120.339996  1.239998  "
      ]
     },
     "execution_count": 64,
     "metadata": {},
     "output_type": "execute_result"
    }
   ],
   "source": [
    "df_test.head()"
   ]
  },
  {
   "cell_type": "markdown",
   "metadata": {},
   "source": [
    "### Helper Functions"
   ]
  },
  {
   "cell_type": "markdown",
   "metadata": {},
   "source": [
    "#### Check Purity?"
   ]
  },
  {
   "cell_type": "code",
   "execution_count": 65,
   "metadata": {},
   "outputs": [],
   "source": [
    "def check_purity(data):\n",
    "    label_column = data[:, -1]\n",
    "    unique_classes = np.unique(label_column)\n",
    "    if len(unique_classes) == 1:\n",
    "        return True\n",
    "    else:\n",
    "        return False"
   ]
  },
  {
   "cell_type": "markdown",
   "metadata": {},
   "source": [
    "#### Check leaf for regressor"
   ]
  },
  {
   "cell_type": "code",
   "execution_count": 66,
   "metadata": {},
   "outputs": [],
   "source": [
    "def create_leaf(data):\n",
    "    label_column = data[:, -1]\n",
    "    leaf = np.mean(label_column)\n",
    "    return leaf"
   ]
  },
  {
   "cell_type": "markdown",
   "metadata": {},
   "source": [
    "#### Number of potential split"
   ]
  },
  {
   "cell_type": "code",
   "execution_count": 67,
   "metadata": {},
   "outputs": [],
   "source": [
    "def get_potential_splits(data, random_subspace):\n",
    "    \n",
    "    potential_splits = {}\n",
    "    _, n_columns = data.shape\n",
    "    \n",
    "    column_indices = list(range(n_columns-1))       # excluding the last column which is the label\n",
    "    \n",
    "    if random_subspace and random_subspace <= len(column_indices):\n",
    "        column_indices = random.sample(population=column_indices, k=random_subspace)\n",
    "    \n",
    "    for column_index in column_indices:          \n",
    "        values = data[:, column_index]\n",
    "        unique_values = np.unique(values)\n",
    "        \n",
    "        potential_splits[column_index] = unique_values\n",
    "        \n",
    "    return potential_splits"
   ]
  },
  {
   "cell_type": "markdown",
   "metadata": {},
   "source": [
    "#### Split Data"
   ]
  },
  {
   "cell_type": "code",
   "execution_count": 68,
   "metadata": {},
   "outputs": [],
   "source": [
    "def split_data(data, split_column, split_value):\n",
    "    \n",
    "    split_column_values = data[:, split_column]\n",
    "\n",
    "    type_of_feature = FEATURE_TYPES[split_column]\n",
    "    if type_of_feature == \"continuous\":\n",
    "        data_below = data[split_column_values <= split_value]\n",
    "        data_above = data[split_column_values >  split_value]\n",
    "    \n",
    "    # feature is categorical   \n",
    "    else:\n",
    "        data_below = data[split_column_values == split_value]\n",
    "        data_above = data[split_column_values != split_value]\n",
    "    \n",
    "    return data_below, data_above"
   ]
  },
  {
   "cell_type": "markdown",
   "metadata": {},
   "source": [
    "#### Calculate best split"
   ]
  },
  {
   "cell_type": "code",
   "execution_count": 69,
   "metadata": {},
   "outputs": [],
   "source": [
    "def calculate_mse(data):\n",
    "    \n",
    "    actual_values = data[:, -1]\n",
    "    if len(actual_values) == 0:   # empty data\n",
    "        mse = 0\n",
    "    else:\n",
    "        prediction = np.mean(actual_values)\n",
    "        mse = np.mean((actual_values - prediction) **2)\n",
    "    \n",
    "    return mse"
   ]
  },
  {
   "cell_type": "code",
   "execution_count": 70,
   "metadata": {},
   "outputs": [],
   "source": [
    "def calculate_overall_metric(data_below, data_above, metric_function):\n",
    "    \n",
    "    n = len(data_below) + len(data_above)\n",
    "    p_data_below = len(data_below) / n\n",
    "    p_data_above = len(data_above) / n\n",
    "\n",
    "    overall_metric =  (p_data_below * metric_function(data_below) \n",
    "                     + p_data_above * metric_function(data_above))\n",
    "    \n",
    "    return overall_metric\n"
   ]
  },
  {
   "cell_type": "code",
   "execution_count": 71,
   "metadata": {},
   "outputs": [],
   "source": [
    "def determine_best_split(data, potential_splits):\n",
    "    \n",
    "    first_iteration = True\n",
    "    for column_index in potential_splits:\n",
    "        for value in potential_splits[column_index]:\n",
    "            data_below, data_above = split_data(data, split_column=column_index, split_value=value)\n",
    "            current_overall_metric = calculate_overall_metric(data_below, data_above, metric_function=calculate_mse)\n",
    "\n",
    "            if first_iteration or current_overall_metric <= best_overall_metric:\n",
    "                first_iteration = False\n",
    "                \n",
    "                best_overall_metric = current_overall_metric\n",
    "                best_split_column = column_index\n",
    "                best_split_value = value\n",
    "    \n",
    "    return best_split_column, best_split_value"
   ]
  },
  {
   "cell_type": "markdown",
   "metadata": {},
   "source": [
    "#### Determine Type of Feature"
   ]
  },
  {
   "cell_type": "code",
   "execution_count": 72,
   "metadata": {},
   "outputs": [],
   "source": [
    "def determine_type_of_feature(df):\n",
    "    \n",
    "    feature_types = []\n",
    "    n_unique_values_treshold = 15\n",
    "    for feature in df.columns:\n",
    "        \n",
    "        if feature != \"label\":\n",
    "            unique_values = df[feature].unique()\n",
    "            example_value = unique_values[0]\n",
    "\n",
    "            if (isinstance(example_value, str)) or (len(unique_values) <= n_unique_values_treshold):\n",
    "                feature_types.append(\"categorical\")\n",
    "            else:\n",
    "                feature_types.append(\"continuous\")\n",
    "    \n",
    "    return feature_types"
   ]
  },
  {
   "cell_type": "markdown",
   "metadata": {},
   "source": [
    "#### Bootstrapping"
   ]
  },
  {
   "cell_type": "code",
   "execution_count": 73,
   "metadata": {},
   "outputs": [],
   "source": [
    "def bootstrapping(train_df, n_bootstrap):\n",
    "    \n",
    "    bootstrap_indices = np.random.randint(low=0, high=len(train_df), size=n_bootstrap)\n",
    "    df_bootstrapped = train_df.iloc[bootstrap_indices]\n",
    "    \n",
    "    return df_bootstrapped"
   ]
  },
  {
   "cell_type": "markdown",
   "metadata": {},
   "source": [
    "### Decision Tree Algorithm for Regressor"
   ]
  },
  {
   "cell_type": "code",
   "execution_count": 74,
   "metadata": {},
   "outputs": [],
   "source": [
    "def decision_tree_algorithm(df, counter=0, min_samples=5, max_depth=5, random_subspace=None):\n",
    "    \n",
    "    # data preparations\n",
    "    if counter == 0:\n",
    "        global COLUMN_HEADERS, FEATURE_TYPES\n",
    "        COLUMN_HEADERS = df.columns\n",
    "        FEATURE_TYPES = determine_type_of_feature(df)\n",
    "        data = df.values\n",
    "    else:\n",
    "        data = df           \n",
    "    \n",
    "    \n",
    "    # base cases\n",
    "    if (check_purity(data)) or (len(data) < min_samples) or (counter == max_depth):\n",
    "        leaf = create_leaf(data)\n",
    "        return leaf\n",
    "\n",
    "    \n",
    "    # recursive part\n",
    "    else:    \n",
    "        counter += 1\n",
    "\n",
    "        # helper functions \n",
    "        potential_splits = get_potential_splits(data, random_subspace)\n",
    "        split_column, split_value = determine_best_split(data, potential_splits)\n",
    "        data_below, data_above = split_data(data, split_column, split_value)\n",
    "        \n",
    "        # check for empty data\n",
    "        if len(data_below) == 0 or len(data_above) == 0:\n",
    "            leaf = create_leaf(data)\n",
    "            return leaf\n",
    "        \n",
    "        # determine question\n",
    "        feature_name = COLUMN_HEADERS[split_column]\n",
    "        type_of_feature = FEATURE_TYPES[split_column]\n",
    "        if type_of_feature == \"continuous\":\n",
    "            question = \"{} <= {}\".format(feature_name, split_value)\n",
    "            \n",
    "        # feature is categorical\n",
    "        else:\n",
    "            question = \"{} = {}\".format(feature_name, split_value)\n",
    "        \n",
    "        # instantiate sub-tree\n",
    "        sub_tree = {question: []}\n",
    "        \n",
    "        # find answers (recursion)\n",
    "        yes_answer = decision_tree_algorithm(data_below, counter, min_samples, max_depth, random_subspace)\n",
    "        no_answer = decision_tree_algorithm(data_above, counter, min_samples, max_depth, random_subspace)\n",
    "        \n",
    "        # If yes_answer = no_answer\n",
    "        if yes_answer == no_answer:\n",
    "            sub_tree = yes_answer\n",
    "        else:\n",
    "            sub_tree[question].append(yes_answer)\n",
    "            sub_tree[question].append(no_answer)\n",
    "        \n",
    "        return sub_tree"
   ]
  },
  {
   "cell_type": "markdown",
   "metadata": {},
   "source": [
    "### Random Forest Alogorithm for Regressor"
   ]
  },
  {
   "cell_type": "code",
   "execution_count": 75,
   "metadata": {},
   "outputs": [],
   "source": [
    "def random_forest_algorithm(df_train, n_trees, n_bootstrap, n_features, dt_max_depth):\n",
    "    forest = []\n",
    "    for i in range(n_trees):\n",
    "        df_bootstrapped = bootstrapping(df_train, n_bootstrap)\n",
    "        tree = decision_tree_algorithm(df_bootstrapped, max_depth=dt_max_depth, random_subspace=n_features)\n",
    "        forest.append(tree)\n",
    "    \n",
    "    return forest"
   ]
  },
  {
   "cell_type": "markdown",
   "metadata": {},
   "source": [
    "### Predictions"
   ]
  },
  {
   "cell_type": "code",
   "execution_count": 76,
   "metadata": {},
   "outputs": [],
   "source": [
    "def predict_example(example, tree):\n",
    "    record = list()\n",
    "    question = list(tree.keys())[0]\n",
    "    feature_name, comparison_operator, value = question.split(\" \")\n",
    "\n",
    "    # ask question\n",
    "    if comparison_operator == \"<=\":\n",
    "        if example[feature_name] <= float(value):\n",
    "            answer = tree[question][0]\n",
    "        else:\n",
    "            answer = tree[question][1]\n",
    "    \n",
    "    # feature is categorical\n",
    "    else:\n",
    "        if str(example[feature_name]) == value:\n",
    "            answer = tree[question][0]\n",
    "        else:\n",
    "            answer = tree[question][1]\n",
    "\n",
    "    # base case\n",
    "    if not isinstance(answer, dict):\n",
    "        return answer\n",
    "    \n",
    "    # recursive part\n",
    "    else:\n",
    "        residual_tree = answer\n",
    "        return predict_example(example, residual_tree)"
   ]
  },
  {
   "cell_type": "code",
   "execution_count": 77,
   "metadata": {},
   "outputs": [],
   "source": [
    "def decision_tree_predictions(df_test, tree):\n",
    "    predictions = df_test.apply(predict_example, args=(tree,), axis=1)\n",
    "    return predictions"
   ]
  },
  {
   "cell_type": "code",
   "execution_count": 78,
   "metadata": {},
   "outputs": [],
   "source": [
    "def random_forest_predictions(df_test, forest):\n",
    "    df_predictions = {}\n",
    "    for i in range(len(forest)):\n",
    "        column_name = \"tree_{}\".format(i)\n",
    "        predictions = decision_tree_predictions(df_test, tree=forest[i])\n",
    "        df_predictions[column_name] = predictions\n",
    "\n",
    "    df_predictions = pd.DataFrame(df_predictions)\n",
    "    random_forest_predictions = df_predictions.mode(axis=1)[0]\n",
    "    \n",
    "    return random_forest_predictions"
   ]
  },
  {
   "cell_type": "markdown",
   "metadata": {},
   "source": [
    "### Evaluation"
   ]
  },
  {
   "cell_type": "code",
   "execution_count": 79,
   "metadata": {},
   "outputs": [],
   "source": [
    "def calculate_r_squared(predictions, labels):    \n",
    "    mean = labels.mean()\n",
    "    ss_res = sum((labels - predictions) ** 2)\n",
    "    ss_tot = sum((labels - mean) ** 2)\n",
    "    r_squared = 1 - ss_res / ss_tot\n",
    "    \n",
    "    return r_squared"
   ]
  },
  {
   "cell_type": "code",
   "execution_count": 92,
   "metadata": {},
   "outputs": [],
   "source": [
    "forest = random_forest_algorithm(df_train, n_trees=2, n_bootstrap=200, n_features=3, dt_max_depth=100)\n",
    "delta_Open_pred = random_forest_predictions(df_test, forest)"
   ]
  },
  {
   "cell_type": "code",
   "execution_count": 93,
   "metadata": {},
   "outputs": [],
   "source": [
    "df_srs = pd.DataFrame(list(zip(delta_Open_pred,df_test.label.values, df_test.Open.values)), columns = [\"predictions\",\"Actual\",\"Open_Act\"])\n",
    "df_srs[\"Open_pred\"] = df_srs.predictions + df_test.Open.shift(1).reset_index(drop=True)\n",
    "df_srs = df_srs.dropna().reset_index(drop=True)"
   ]
  },
  {
   "cell_type": "code",
   "execution_count": 94,
   "metadata": {},
   "outputs": [],
   "source": [
    "from sklearn.metrics import mean_squared_error\n",
    "def cal_rmse(predictions, labels):\n",
    "    mse = mean_squared_error(labels,predictions)\n",
    "    rmse = np.sqrt(mse)\n",
    "    return rmse"
   ]
  },
  {
   "cell_type": "code",
   "execution_count": 95,
   "metadata": {},
   "outputs": [
    {
     "data": {
      "text/plain": [
       "1.6039972238727476"
      ]
     },
     "execution_count": 95,
     "metadata": {},
     "output_type": "execute_result"
    }
   ],
   "source": [
    "cal_rmse(list(df_srs.Open_pred.values), list(df_srs.Open_Act.values))"
   ]
  },
  {
   "cell_type": "code",
   "execution_count": 96,
   "metadata": {},
   "outputs": [
    {
     "data": {
      "text/plain": [
       "<matplotlib.collections.PathCollection at 0x2563c468ac8>"
      ]
     },
     "execution_count": 96,
     "metadata": {},
     "output_type": "execute_result"
    },
    {
     "data": {
      "image/png": "[encoded data removed]",
      "text/plain": [
       "<Figure size 432x288 with 1 Axes>"
      ]
     },
     "metadata": {
      "needs_background": "light"
     },
     "output_type": "display_data"
    }
   ],
   "source": [
    "plt.scatter(list(df_srs.Open_pred.values), list(df_srs.Open_Act.values))"
   ]
  },
  {
   "cell_type": "code",
   "execution_count": 97,
   "metadata": {},
   "outputs": [
    {
     "data": {
      "text/plain": [
       "0.4913839465277918"
      ]
     },
     "execution_count": 97,
     "metadata": {},
     "output_type": "execute_result"
    }
   ],
   "source": [
    "abc = calculate_r_squared(df_srs.Open_pred, df_srs.Open_Act)\n",
    "abc"
   ]
  },
  {
   "cell_type": "code",
   "execution_count": null,
   "metadata": {},
   "outputs": [],
   "source": []
  },
  {
   "cell_type": "code",
   "execution_count": null,
   "metadata": {},
   "outputs": [],
   "source": []
  },
  {
   "cell_type": "code",
   "execution_count": 100,
   "metadata": {},
   "outputs": [
    {
     "name": "stdout",
     "output_type": "stream",
     "text": [
      "Progress: Iteration 1/6\n",
      "Progress: Iteration 2/6\n",
      "Progress: Iteration 3/6\n",
      "Progress: Iteration 4/6\n",
      "Progress: Iteration 5/6\n",
      "Progress: Iteration 6/6\n"
     ]
    },
    {
     "data": {
      "text/html": [
       "<div>\n",
       "<style scoped>\n",
       "    .dataframe tbody tr th:only-of-type {\n",
       "        vertical-align: middle;\n",
       "    }\n",
       "\n",
       "    .dataframe tbody tr th {\n",
       "        vertical-align: top;\n",
       "    }\n",
       "\n",
       "    .dataframe thead th {\n",
       "        text-align: right;\n",
       "    }\n",
       "</style>\n",
       "<table border=\"1\" class=\"dataframe\">\n",
       "  <thead>\n",
       "    <tr style=\"text-align: right;\">\n",
       "      <th></th>\n",
       "      <th>max_depth</th>\n",
       "      <th>trees</th>\n",
       "      <th>rmse_test</th>\n",
       "      <th>r_squared_test</th>\n",
       "    </tr>\n",
       "  </thead>\n",
       "  <tbody>\n",
       "    <tr>\n",
       "      <td>19</td>\n",
       "      <td>3</td>\n",
       "      <td>2</td>\n",
       "      <td>1.010044</td>\n",
       "      <td>0.798320</td>\n",
       "    </tr>\n",
       "    <tr>\n",
       "      <td>27</td>\n",
       "      <td>4</td>\n",
       "      <td>1</td>\n",
       "      <td>1.189366</td>\n",
       "      <td>0.720351</td>\n",
       "    </tr>\n",
       "    <tr>\n",
       "      <td>3</td>\n",
       "      <td>1</td>\n",
       "      <td>4</td>\n",
       "      <td>1.210197</td>\n",
       "      <td>0.710469</td>\n",
       "    </tr>\n",
       "    <tr>\n",
       "      <td>2</td>\n",
       "      <td>1</td>\n",
       "      <td>3</td>\n",
       "      <td>1.214844</td>\n",
       "      <td>0.708241</td>\n",
       "    </tr>\n",
       "    <tr>\n",
       "      <td>33</td>\n",
       "      <td>4</td>\n",
       "      <td>7</td>\n",
       "      <td>1.216975</td>\n",
       "      <td>0.707217</td>\n",
       "    </tr>\n",
       "  </tbody>\n",
       "</table>\n",
       "</div>"
      ],
      "text/plain": [
       "    max_depth  trees  rmse_test  r_squared_test\n",
       "19          3      2   1.010044        0.798320\n",
       "27          4      1   1.189366        0.720351\n",
       "3           1      4   1.210197        0.710469\n",
       "2           1      3   1.214844        0.708241\n",
       "33          4      7   1.216975        0.707217"
      ]
     },
     "execution_count": 100,
     "metadata": {},
     "output_type": "execute_result"
    }
   ],
   "source": [
    "grid_search = {\"max_depth\": [], \"trees\": [], \"rmse_test\": [], \"r_squared_test\": []}\n",
    "for max_depth in range(1, 7):\n",
    "    for trees in range(1,10):\n",
    "        forest = random_forest_algorithm(df_train, n_trees=trees, n_bootstrap=150, n_features=3, dt_max_depth=4)\n",
    "        delta_Open_pred = random_forest_predictions(df_test, forest)\n",
    "        df_srs = pd.DataFrame(list(zip(delta_Open_pred,df_test.label.values, df_test.Open.values)), columns = [\"predictions\",\"Actual\",\"Open_Act\"])\n",
    "        df_srs[\"Open_pred\"] = df_srs.predictions + df_test.Open.shift(1).reset_index(drop=True)\n",
    "        df_srs = df_srs.dropna().reset_index(drop=True)\n",
    "        \n",
    "        rmse_test = cal_rmse(list(df_srs.Open_pred.values), list(df_srs.Open_Act.values))\n",
    "        r_squared_test = calculate_r_squared(df_srs.Open_pred, df_srs.Open_Act)\n",
    "        \n",
    "        grid_search[\"max_depth\"].append(max_depth)\n",
    "        grid_search[\"trees\"].append(trees)\n",
    "        grid_search[\"rmse_test\"].append(rmse_test)\n",
    "        grid_search[\"r_squared_test\"].append(r_squared_test)\n",
    "        \n",
    "    print(f\"Progress: Iteration {max_depth}/6\")\n",
    "        \n",
    "grid_search = pd.DataFrame(grid_search)\n",
    "grid_search.sort_values(\"r_squared_test\", ascending=False).head()"
   ]
  },
  {
   "cell_type": "code",
   "execution_count": 102,
   "metadata": {},
   "outputs": [
    {
     "name": "stdout",
     "output_type": "stream",
     "text": [
      "25\n",
      "50\n",
      "75\n",
      "100\n",
      "125\n",
      "150\n",
      "175\n"
     ]
    }
   ],
   "source": [
    "for i in range(25,200,25):\n",
    "    print(i)"
   ]
  },
  {
   "cell_type": "code",
   "execution_count": null,
   "metadata": {},
   "outputs": [],
   "source": []
  }
 ],
 "metadata": {
  "kernelspec": {
   "display_name": "Python 3",
   "language": "python",
   "name": "python3"
  },
  "language_info": {
   "codemirror_mode": {
    "name": "ipython",
    "version": 3
   },
   "file_extension": ".py",
   "mimetype": "text/x-python",
   "name": "python",
   "nbconvert_exporter": "python",
   "pygments_lexer": "ipython3",
   "version": "3.7.4"
  }
 },
 "nbformat": 4,
 "nbformat_minor": 2
}
